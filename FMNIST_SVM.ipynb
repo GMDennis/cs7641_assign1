{
 "cells": [
  {
   "cell_type": "code",
   "execution_count": 1,
   "metadata": {
    "id": "ecDYCofc3bXy"
   },
   "outputs": [],
   "source": [
    "import numpy as np\n",
    "import pandas as pd\n",
    "from PIL import Image, ImageOps\n",
    "import os, copy, random\n",
    "import matplotlib.pyplot as plt\n",
    "import collections\n",
    "from sklearn.model_selection import GridSearchCV\n",
    "from sklearn.model_selection import StratifiedKFold\n",
    "from sklearn.preprocessing import StandardScaler\n",
    "from sklearn.svm import SVC\n",
    "from sklearn import metrics\n",
    "\n",
    "#Reference : https://github.com/zalandoresearch/fashion-mnist utils/mnist_reader.\n",
    "def load_mnist(path, kind='train'):\n",
    "    import os\n",
    "    import gzip\n",
    "    import numpy as np\n",
    "\n",
    "    \"\"\"Load MNIST data from `path`\"\"\"\n",
    "    labels_path = os.path.join(path,\n",
    "                               '%s-labels-idx1-ubyte.gz'\n",
    "                               % kind)\n",
    "    images_path = os.path.join(path,\n",
    "                               '%s-images-idx3-ubyte.gz'\n",
    "                               % kind)\n",
    "\n",
    "    with gzip.open(labels_path, 'rb') as lbpath:\n",
    "        labels = np.frombuffer(lbpath.read(), dtype=np.uint8,\n",
    "                               offset=8)\n",
    "\n",
    "    with gzip.open(images_path, 'rb') as imgpath:\n",
    "        images = np.frombuffer(imgpath.read(), dtype=np.uint8,\n",
    "                               offset=16).reshape(len(labels), 784)\n",
    "\n",
    "    return images, labels"
   ]
  },
  {
   "cell_type": "code",
   "execution_count": 2,
   "metadata": {
    "colab": {
     "base_uri": "https://localhost:8080/",
     "height": 282
    },
    "id": "58evoKpt3xqV",
    "outputId": "2f245b65-c1cb-4c1c-b946-2acb2743a7d3"
   },
   "outputs": [
    {
     "name": "stdout",
     "output_type": "stream",
     "text": [
      "Sandal\n"
     ]
    },
    {
     "data": {
      "image/png": "[encoded data removed]",
      "text/plain": [
       "<Figure size 432x288 with 1 Axes>"
      ]
     },
     "metadata": {
      "needs_background": "light"
     },
     "output_type": "display_data"
    }
   ],
   "source": [
    "classes=('T-shirt/top', 'Trouser', 'Pullover', 'Dress', 'Coat',\n",
    "        'Sandal', 'Shirt', 'Sneaker', 'Bag', 'Ankle boot')\n",
    "X_train, y_train = load_mnist('./dataset/fashion_mnist/', kind='train')\n",
    "X_test, y_test = load_mnist('./dataset/fashion_mnist/', kind='t10k')\n",
    "# visualize and check data and label.\n",
    "index = 12\n",
    "plt.imshow(X_train[index].reshape(28,28))\n",
    "print(classes[y_train[index]])"
   ]
  },
  {
   "cell_type": "code",
   "execution_count": 3,
   "metadata": {
    "colab": {
     "base_uri": "https://localhost:8080/"
    },
    "id": "3eNiuY3x33mh",
    "outputId": "0e81ed97-8b18-43a8-a7e6-7f68f4bc793e"
   },
   "outputs": [
    {
     "name": "stdout",
     "output_type": "stream",
     "text": [
      "Counter({9: 6000, 0: 6000, 3: 6000, 2: 6000, 7: 6000, 5: 6000, 1: 6000, 6: 6000, 4: 6000, 8: 6000})\n",
      "Counter({9: 1000, 2: 1000, 1: 1000, 6: 1000, 4: 1000, 5: 1000, 7: 1000, 3: 1000, 8: 1000, 0: 1000})\n"
     ]
    }
   ],
   "source": [
    "# count number of each class -> check data balance.\n",
    "train_count = collections.Counter(y_train)\n",
    "print(train_count)\n",
    "test_count = collections.Counter(y_test)\n",
    "print(test_count)"
   ]
  },
  {
   "cell_type": "code",
   "execution_count": 4,
   "metadata": {
    "colab": {
     "base_uri": "https://localhost:8080/"
    },
    "id": "zT54wtxtO13-",
    "outputId": "767146e9-f5e2-47ec-a4da-b28797534912"
   },
   "outputs": [
    {
     "name": "stdout",
     "output_type": "stream",
     "text": [
      "sampled from class 0 : 6000\n",
      "sampled from class 1 : 6000\n",
      "sampled from class 2 : 6000\n",
      "sampled from class 3 : 6000\n",
      "sampled from class 4 : 6000\n",
      "sampled from class 5 : 6000\n",
      "sampled from class 6 : 6000\n",
      "sampled from class 7 : 6000\n",
      "sampled from class 8 : 6000\n",
      "sampled from class 9 : 6000\n",
      "sampled from class 0 : 1000\n",
      "sampled from class 1 : 1000\n",
      "sampled from class 2 : 1000\n",
      "sampled from class 3 : 1000\n",
      "sampled from class 4 : 1000\n",
      "sampled from class 5 : 1000\n",
      "sampled from class 6 : 1000\n",
      "sampled from class 7 : 1000\n",
      "sampled from class 8 : 1000\n",
      "sampled from class 9 : 1000\n",
      "6000 6000\n",
      "1000 1000\n"
     ]
    }
   ],
   "source": [
    "#make this reproducible with seed fixed\n",
    "np.random.seed(42)\n",
    "\n",
    "#subsampling each class\n",
    "subset_X_train = []\n",
    "subset_y_train = []\n",
    "subset_per_each_train = 600\n",
    "for i in range(len(classes)):\n",
    "    _class_idx = np.where(y_train == i)[0]\n",
    "    print('sampled from class {} : {}'.format(i, len(_class_idx)))\n",
    "    np.random.shuffle(_class_idx)\n",
    "    subset_X_train.extend(X_train[_class_idx[:subset_per_each_train]])\n",
    "    subset_y_train.extend(y_train[_class_idx[:subset_per_each_train]])\n",
    "\n",
    "subset_X_test = []\n",
    "subset_y_test = []\n",
    "subset_per_each_test = 100\n",
    "for i in range(len(classes)):\n",
    "    _class_idx = np.where(y_test == i)[0]\n",
    "    print('sampled from class {} : {}'.format(i, len(_class_idx)))\n",
    "    np.random.shuffle(_class_idx)\n",
    "    subset_X_test.extend(X_train[_class_idx[:subset_per_each_test]])\n",
    "    subset_y_test.extend(y_train[_class_idx[:subset_per_each_test]])\n",
    "\n",
    "print(len(subset_X_train), len(subset_y_train))\n",
    "print(len(subset_X_test), len(subset_y_test))\n",
    "\n",
    "scaler = StandardScaler()\n",
    "subset_X_train = scaler.fit_transform(np.array(subset_X_train))\n",
    "subset_y_train = np.array(subset_y_train)\n",
    "subset_X_test = scaler.fit_transform(np.array(subset_X_test))\n",
    "subset_y_test = np.array(subset_y_test)\n"
   ]
  },
  {
   "cell_type": "code",
   "execution_count": 5,
   "metadata": {
    "colab": {
     "base_uri": "https://localhost:8080/"
    },
    "id": "yr3o8K073_eV",
    "outputId": "6146632d-8936-41ae-8b84-378a417f7639"
   },
   "outputs": [
    {
     "name": "stdout",
     "output_type": "stream",
     "text": [
      "Fitting 10 folds for each of 3 candidates, totalling 30 fits\n"
     ]
    },
    {
     "data": {
      "text/plain": [
       "GridSearchCV(cv=10, estimator=SVC(), n_jobs=-1,\n",
       "             param_grid={'kernel': ['linear', 'poly', 'rbf']}, verbose=2)"
      ]
     },
     "execution_count": 5,
     "metadata": {},
     "output_type": "execute_result"
    }
   ],
   "source": [
    "parameters = {'kernel':[\"linear\", \"poly\", \"rbf\"]}\n",
    "clf = SVC()\n",
    "clf_GS = GridSearchCV(clf, parameters, verbose=2, cv=10, n_jobs=-1)\n",
    "clf_GS.fit(subset_X_train, subset_y_train)\n"
   ]
  },
  {
   "cell_type": "code",
   "execution_count": 6,
   "metadata": {},
   "outputs": [
    {
     "name": "stdout",
     "output_type": "stream",
     "text": [
      "{'kernel': 'rbf'}\n",
      "{'mean_fit_time': array([12.15431337, 33.90897512, 36.16587639]), 'std_fit_time': array([2.8534137 , 9.85000777, 5.44280849]), 'mean_score_time': array([ 1.87587302,  5.19904382, 10.11434309]), 'std_score_time': array([0.10331823, 1.30116777, 2.02593477]), 'param_kernel': masked_array(data=['linear', 'poly', 'rbf'],\n",
      "             mask=[False, False, False],\n",
      "       fill_value='?',\n",
      "            dtype=object), 'params': [{'kernel': 'linear'}, {'kernel': 'poly'}, {'kernel': 'rbf'}], 'split0_test_score': array([0.78833333, 0.8       , 0.83666667]), 'split1_test_score': array([0.80333333, 0.78833333, 0.82833333]), 'split2_test_score': array([0.76666667, 0.81166667, 0.83166667]), 'split3_test_score': array([0.80166667, 0.80166667, 0.84333333]), 'split4_test_score': array([0.81166667, 0.79166667, 0.835     ]), 'split5_test_score': array([0.79333333, 0.81833333, 0.84      ]), 'split6_test_score': array([0.805     , 0.81      , 0.85166667]), 'split7_test_score': array([0.80666667, 0.82      , 0.85      ]), 'split8_test_score': array([0.78833333, 0.825     , 0.855     ]), 'split9_test_score': array([0.835     , 0.81833333, 0.85166667]), 'mean_test_score': array([0.8       , 0.8085    , 0.84233333]), 'std_test_score': array([0.01694763, 0.01191288, 0.00891939]), 'rank_test_score': array([3, 2, 1], dtype=int32)}\n"
     ]
    }
   ],
   "source": [
    "print(clf_GS.best_params_)\n",
    "print(clf_GS.cv_results_)"
   ]
  },
  {
   "cell_type": "code",
   "execution_count": 7,
   "metadata": {
    "colab": {
     "base_uri": "https://localhost:8080/"
    },
    "id": "HnpRubicPulf",
    "outputId": "3e4214b6-fa6a-498f-d648-e3726ffb57fd"
   },
   "outputs": [
    {
     "name": "stdout",
     "output_type": "stream",
     "text": [
      "Test Accuracy of best model: 0.87\n"
     ]
    }
   ],
   "source": [
    "subset_y_test_pred = clf_GS.best_estimator_.predict(subset_X_test)\n",
    "test_acc = metrics.accuracy_score(subset_y_test, subset_y_test_pred)\n",
    "print('Test Accuracy of best model: {}'.format(test_acc))"
   ]
  },
  {
   "cell_type": "code",
   "execution_count": 8,
   "metadata": {},
   "outputs": [
    {
     "name": "stdout",
     "output_type": "stream",
     "text": [
      "sampled from class 0 : 6000\n",
      "sampled from class 1 : 6000\n",
      "sampled from class 2 : 6000\n",
      "sampled from class 3 : 6000\n",
      "sampled from class 4 : 6000\n",
      "sampled from class 5 : 6000\n",
      "sampled from class 6 : 6000\n",
      "sampled from class 7 : 6000\n",
      "sampled from class 8 : 6000\n",
      "sampled from class 9 : 6000\n",
      "6000 6000\n",
      "1000 1000\n"
     ]
    }
   ],
   "source": [
    "#for learning rate analysis change subset_per_each_train as 100, 200, 300, 400, 500, 600\n",
    "\n",
    "#make this reproducible with seed fixed\n",
    "np.random.seed(42)\n",
    "\n",
    "#subsampling each class\n",
    "subset_X_train = []\n",
    "subset_y_train = []\n",
    "subset_per_each_train = 600\n",
    "for i in range(len(classes)):\n",
    "    _class_idx = np.where(y_train == i)[0]\n",
    "    print('sampled from class {} : {}'.format(i, len(_class_idx)))\n",
    "    np.random.shuffle(_class_idx)\n",
    "    subset_X_train.extend(X_train[_class_idx[:subset_per_each_train]])\n",
    "    subset_y_train.extend(y_train[_class_idx[:subset_per_each_train]])\n",
    "\n",
    "print(len(subset_X_train), len(subset_y_train))\n",
    "print(len(subset_X_test), len(subset_y_test))\n",
    "\n",
    "scaler = StandardScaler()\n",
    "subset_X_train = scaler.fit_transform(np.array(subset_X_train))\n",
    "subset_y_train = np.array(subset_y_train)"
   ]
  },
  {
   "cell_type": "code",
   "execution_count": 9,
   "metadata": {},
   "outputs": [
    {
     "name": "stdout",
     "output_type": "stream",
     "text": [
      "Train score 0.8840 Test Accuracy of best model: 0.83\n"
     ]
    }
   ],
   "source": [
    "l_clf = SVC(kernel=\"poly\")\n",
    "l_clf.fit(subset_X_train, subset_y_train)\n",
    "subset_y_test_pred = l_clf.predict(subset_X_test)\n",
    "train_score = l_clf.score(subset_X_train, subset_y_train)\n",
    "test_acc = metrics.accuracy_score(subset_y_test, subset_y_test_pred)\n",
    "print('Train score {:.4f} Test Accuracy of best model: {}'.format(train_score, test_acc))"
   ]
  },
  {
   "cell_type": "code",
   "execution_count": 10,
   "metadata": {},
   "outputs": [
    {
     "name": "stdout",
     "output_type": "stream",
     "text": [
      "Train time 44.0440 Test time 7.9486\n"
     ]
    }
   ],
   "source": [
    "#performance\n",
    "import time\n",
    "t1 = time.time()\n",
    "l_clf = SVC(kernel=\"poly\")\n",
    "l_clf.fit(subset_X_train, subset_y_train)\n",
    "end_t1 = time.time()\n",
    "train_score = l_clf.score(subset_X_train, subset_y_train)\n",
    "t2 = time.time()\n",
    "subset_y_test_pred = l_clf.predict(subset_X_test)\n",
    "#test_acc = metrics.accuracy_score(subset_y_test, subset_y_test_pred)\n",
    "end_t2 = time.time()\n",
    "print('Train time {:.4f} Test time {:.4f}'.format((end_t1 - t1), (end_t2 - t2)))"
   ]
  }
 ],
 "metadata": {
  "colab": {
   "collapsed_sections": [],
   "name": "FMNIST_SVM.ipynb",
   "provenance": []
  },
  "kernelspec": {
   "display_name": "Python 3",
   "language": "python",
   "name": "python3"
  },
  "language_info": {
   "codemirror_mode": {
    "name": "ipython",
    "version": 3
   },
   "file_extension": ".py",
   "mimetype": "text/x-python",
   "name": "python",
   "nbconvert_exporter": "python",
   "pygments_lexer": "ipython3",
   "version": "3.7.4"
  }
 },
 "nbformat": 4,
 "nbformat_minor": 1
}
