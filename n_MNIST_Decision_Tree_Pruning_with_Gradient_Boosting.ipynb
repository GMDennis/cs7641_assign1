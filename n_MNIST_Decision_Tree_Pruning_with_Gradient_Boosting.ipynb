{
 "cells": [
  {
   "cell_type": "code",
   "execution_count": 1,
   "metadata": {
    "colab": {
     "base_uri": "https://localhost:8080/"
    },
    "id": "ecDYCofc3bXy",
    "outputId": "27e13bca-6966-45de-aa3e-4ab2d988d1ce"
   },
   "outputs": [
    {
     "name": "stdout",
     "output_type": "stream",
     "text": [
      "train dataset: 60000 60000\n",
      "test dataset: 10000 10000\n"
     ]
    }
   ],
   "source": [
    "import numpy as np\n",
    "import pandas as pd\n",
    "from PIL import Image, ImageOps\n",
    "import os, copy, random\n",
    "import matplotlib.pyplot as plt\n",
    "import collections\n",
    "import scipy.io\n",
    "import gzip\n",
    "from sklearn.tree import DecisionTreeClassifier\n",
    "from sklearn.ensemble import GradientBoostingClassifier\n",
    "from sklearn.model_selection import GridSearchCV\n",
    "from sklearn.preprocessing import StandardScaler\n",
    "from sklearn import metrics\n",
    "\n",
    "n_mnist_file = './dataset/n_mnist/mnist-with-awgn.mat'\n",
    "\n",
    "data = scipy.io.loadmat(n_mnist_file)\n",
    "X_train = data['train_x']\n",
    "y_train = data['train_y']\n",
    "X_test = data['test_x']\n",
    "y_test = data['test_y']\n",
    "print('train dataset: {} {}'.format(len(X_train), len(y_train)))\n",
    "print('test dataset: {} {}'.format(len(X_test), len(y_test)))"
   ]
  },
  {
   "cell_type": "code",
   "execution_count": 2,
   "metadata": {
    "colab": {
     "base_uri": "https://localhost:8080/",
     "height": 300
    },
    "id": "iBOdOFGHVh0B",
    "outputId": "701217f2-fc7f-404e-977c-c005988b3194"
   },
   "outputs": [
    {
     "name": "stdout",
     "output_type": "stream",
     "text": [
      "(784,)\n",
      "2\n"
     ]
    },
    {
     "data": {
      "image/png": "[encoded data removed]",
      "text/plain": [
       "<Figure size 432x288 with 1 Axes>"
      ]
     },
     "metadata": {
      "needs_background": "light"
     },
     "output_type": "display_data"
    }
   ],
   "source": [
    "# reformat label data.\n",
    "y_train = np.array([int(np.where(y_train[i] == 1)[0]) for i in range(len(y_train))])\n",
    "y_test = np.array([int(np.where(y_test[i] == 1)[0]) for i in range(len(y_test))])\n",
    "# visualize and check data and label.\n",
    "classes=('0', '1', '2', '3', '4', '5', '6', '7', '8', '9')\n",
    "index = 30\n",
    "print(X_train[0].shape)\n",
    "plt.imshow(X_train[index].reshape(28,28))\n",
    "print(classes[y_train[index]])"
   ]
  },
  {
   "cell_type": "code",
   "execution_count": 3,
   "metadata": {
    "colab": {
     "base_uri": "https://localhost:8080/"
    },
    "id": "3eNiuY3x33mh",
    "outputId": "66ee3d54-9da6-426f-e680-9c6bddd787b5"
   },
   "outputs": [
    {
     "name": "stdout",
     "output_type": "stream",
     "text": [
      "Counter({1: 6742, 7: 6265, 3: 6131, 2: 5958, 9: 5949, 0: 5923, 6: 5918, 8: 5851, 4: 5842, 5: 5421})\n",
      "Counter({1: 1135, 2: 1032, 7: 1028, 3: 1010, 9: 1009, 4: 982, 0: 980, 8: 974, 6: 958, 5: 892})\n"
     ]
    }
   ],
   "source": [
    "# count number of each class -> check data balance.\n",
    "train_count = collections.Counter(y_train)\n",
    "print(train_count)\n",
    "test_count = collections.Counter(y_test)\n",
    "print(test_count)"
   ]
  },
  {
   "cell_type": "code",
   "execution_count": 4,
   "metadata": {
    "colab": {
     "base_uri": "https://localhost:8080/"
    },
    "id": "zT54wtxtO13-",
    "outputId": "675b1822-5526-4dbf-ff37-12a9d4f9b867"
   },
   "outputs": [
    {
     "name": "stdout",
     "output_type": "stream",
     "text": [
      "sampled from class 0 : 5923\n",
      "sampled from class 1 : 6742\n",
      "sampled from class 2 : 5958\n",
      "sampled from class 3 : 6131\n",
      "sampled from class 4 : 5842\n",
      "sampled from class 5 : 5421\n",
      "sampled from class 6 : 5918\n",
      "sampled from class 7 : 6265\n",
      "sampled from class 8 : 5851\n",
      "sampled from class 9 : 5949\n",
      "sampled from class 0 : 980\n",
      "sampled from class 1 : 1135\n",
      "sampled from class 2 : 1032\n",
      "sampled from class 3 : 1010\n",
      "sampled from class 4 : 982\n",
      "sampled from class 5 : 892\n",
      "sampled from class 6 : 958\n",
      "sampled from class 7 : 1028\n",
      "sampled from class 8 : 974\n",
      "sampled from class 9 : 1009\n",
      "6000 6000\n",
      "1000 1000\n"
     ]
    }
   ],
   "source": [
    "#make this reproducible with seed fixed\n",
    "np.random.seed(42)\n",
    "\n",
    "#subsampling each class\n",
    "subset_X_train = []\n",
    "subset_y_train = []\n",
    "subset_per_each_train = 600\n",
    "for i in range(len(classes)):\n",
    "    _class_idx = np.where(y_train == i)[0]\n",
    "    print('sampled from class {} : {}'.format(i, len(_class_idx)))\n",
    "    np.random.shuffle(_class_idx)\n",
    "    subset_X_train.extend(X_train[_class_idx[:subset_per_each_train]])\n",
    "    subset_y_train.extend(y_train[_class_idx[:subset_per_each_train]])\n",
    "\n",
    "subset_X_test = []\n",
    "subset_y_test = []\n",
    "subset_per_each_test = 100\n",
    "for i in range(len(classes)):\n",
    "    _class_idx = np.where(y_test == i)[0]\n",
    "    print('sampled from class {} : {}'.format(i, len(_class_idx)))\n",
    "    np.random.shuffle(_class_idx)\n",
    "    subset_X_test.extend(X_train[_class_idx[:subset_per_each_test]])\n",
    "    subset_y_test.extend(y_train[_class_idx[:subset_per_each_test]])\n",
    "\n",
    "print(len(subset_X_train), len(subset_y_train))\n",
    "print(len(subset_X_test), len(subset_y_test))\n",
    "\n",
    "scaler = StandardScaler()\n",
    "subset_X_train = scaler.fit_transform(np.array(subset_X_train))\n",
    "subset_y_train = np.array(subset_y_train)\n",
    "subset_X_test = scaler.fit_transform(np.array(subset_X_test))\n",
    "subset_y_test = np.array(subset_y_test)\n"
   ]
  },
  {
   "cell_type": "code",
   "execution_count": 5,
   "metadata": {},
   "outputs": [],
   "source": [
    "clf = DecisionTreeClassifier(random_state=42)\n",
    "path = clf.cost_complexity_pruning_path(subset_X_train, subset_y_train)\n",
    "ccp_alphas, impurities = path.ccp_alphas, path.impurities"
   ]
  },
  {
   "cell_type": "code",
   "execution_count": 6,
   "metadata": {
    "colab": {
     "base_uri": "https://localhost:8080/",
     "height": 388
    },
    "id": "yr3o8K073_eV",
    "outputId": "9ee6e485-8ce8-425e-f6e9-7b73f473e3ae"
   },
   "outputs": [
    {
     "data": {
      "text/plain": [
       "Text(0.5, 1.0, 'Total Impurity vs effective alpha for training set')"
      ]
     },
     "execution_count": 6,
     "metadata": {},
     "output_type": "execute_result"
    },
    {
     "data": {
      "image/png": "[encoded data removed]",
      "text/plain": [
       "<Figure size 432x288 with 1 Axes>"
      ]
     },
     "metadata": {
      "needs_background": "light"
     },
     "output_type": "display_data"
    }
   ],
   "source": [
    "fig, ax = plt.subplots()\n",
    "ax.plot(ccp_alphas[:-1], impurities[:-1], marker='o', drawstyle=\"steps-post\")\n",
    "ax.set_xlabel(\"effective alpha\")\n",
    "ax.set_ylabel(\"total impurity of leaves\")\n",
    "ax.set_title(\"Total Impurity vs effective alpha for training set\")"
   ]
  },
  {
   "cell_type": "code",
   "execution_count": 8,
   "metadata": {},
   "outputs": [
    {
     "name": "stdout",
     "output_type": "stream",
     "text": [
      "1089\n",
      "[0.         0.00016588 0.00016617 0.00016667 0.00016667 0.00016667\n",
      " 0.00016667 0.00016667 0.00016667 0.00016667]\n",
      "[0.0, 0.0002, 0.0002, 0.0002, 0.0002, 0.0002, 0.0002, 0.0002, 0.0002, 0.0002]\n",
      "51\n"
     ]
    }
   ],
   "source": [
    "print(len(ccp_alphas))\n",
    "ccp_alpha_round = [np.around(num, 4) for num in ccp_alphas]\n",
    "print(ccp_alphas[:10])\n",
    "print(ccp_alpha_round[:10])\n",
    "\n",
    "ccp_alpha_list=[]\n",
    "[ccp_alpha_list.append(x) for x in ccp_alpha_round if x not in ccp_alpha_list]\n",
    "print(len(ccp_alpha_list))"
   ]
  },
  {
   "cell_type": "code",
   "execution_count": 9,
   "metadata": {
    "colab": {
     "base_uri": "https://localhost:8080/",
     "height": 197
    },
    "id": "HnpRubicPulf",
    "outputId": "d71acc50-c070-4877-eccd-aa1db15d0c82"
   },
   "outputs": [
    {
     "name": "stdout",
     "output_type": "stream",
     "text": [
      "ccp_alpha 0.0\n",
      "ccp_alpha 0.0002\n",
      "ccp_alpha 0.0003\n",
      "ccp_alpha 0.0004\n",
      "ccp_alpha 0.0005\n",
      "ccp_alpha 0.0006\n",
      "ccp_alpha 0.0007\n",
      "ccp_alpha 0.0008\n",
      "ccp_alpha 0.0009\n",
      "ccp_alpha 0.001\n",
      "ccp_alpha 0.0011\n",
      "ccp_alpha 0.0012\n",
      "ccp_alpha 0.0013\n",
      "ccp_alpha 0.0014\n",
      "ccp_alpha 0.0015\n",
      "ccp_alpha 0.0016\n",
      "ccp_alpha 0.0017\n",
      "ccp_alpha 0.0018\n",
      "ccp_alpha 0.0019\n",
      "ccp_alpha 0.002\n",
      "ccp_alpha 0.0021\n",
      "ccp_alpha 0.0022\n",
      "ccp_alpha 0.0023\n",
      "ccp_alpha 0.0024\n",
      "ccp_alpha 0.0025\n",
      "ccp_alpha 0.0026\n",
      "ccp_alpha 0.0027\n",
      "ccp_alpha 0.0028\n",
      "ccp_alpha 0.0029\n",
      "ccp_alpha 0.0031\n",
      "ccp_alpha 0.0033\n",
      "ccp_alpha 0.0037\n",
      "ccp_alpha 0.0039\n",
      "ccp_alpha 0.0041\n",
      "ccp_alpha 0.0043\n",
      "ccp_alpha 0.0044\n",
      "ccp_alpha 0.0045\n",
      "ccp_alpha 0.0048\n",
      "ccp_alpha 0.0065\n",
      "ccp_alpha 0.0067\n",
      "ccp_alpha 0.0069\n",
      "ccp_alpha 0.0073\n",
      "ccp_alpha 0.0076\n",
      "ccp_alpha 0.009\n",
      "ccp_alpha 0.0109\n",
      "ccp_alpha 0.0129\n",
      "ccp_alpha 0.0144\n",
      "ccp_alpha 0.0178\n",
      "ccp_alpha 0.0198\n",
      "ccp_alpha 0.021\n",
      "ccp_alpha 0.0263\n"
     ]
    }
   ],
   "source": [
    "clfs = []\n",
    "for ccp_alpha in ccp_alpha_list:\n",
    "    clf = GradientBoostingClassifier(random_state=42, ccp_alpha=ccp_alpha, max_features=\"sqrt\", max_depth=10)\n",
    "    clf.fit(subset_X_train, subset_y_train)\n",
    "    clfs.append(clf)\n",
    "    print('ccp_alpha', ccp_alpha)"
   ]
  },
  {
   "cell_type": "code",
   "execution_count": 10,
   "metadata": {},
   "outputs": [
    {
     "data": {
      "image/png": "[encoded data removed]",
      "text/plain": [
       "<Figure size 432x288 with 1 Axes>"
      ]
     },
     "metadata": {
      "needs_background": "light"
     },
     "output_type": "display_data"
    }
   ],
   "source": [
    "train_scores = [clf.score(subset_X_train, subset_y_train) for clf in clfs]\n",
    "test_scores = [clf.score(subset_X_test, subset_y_test) for clf in clfs]\n",
    "\n",
    "train_scores = train_scores[:-2]\n",
    "test_scores = test_scores[:-2]\n",
    "_ccp_alpha_list = ccp_alpha_list[:-2]\n",
    "\n",
    "fig, ax = plt.subplots()\n",
    "ax.set_xlabel(\"alpha\")\n",
    "ax.set_ylabel(\"accuracy\")\n",
    "ax.set_title(\"Accuracy vs alpha for training and testing sets\")\n",
    "ax.plot(_ccp_alpha_list, train_scores, marker='o', label=\"train\",\n",
    "        drawstyle=\"steps-post\")\n",
    "ax.plot(_ccp_alpha_list, test_scores, marker='o', label=\"test\",\n",
    "        drawstyle=\"steps-post\")\n",
    "ax.legend()\n",
    "plt.show()"
   ]
  },
  {
   "cell_type": "code",
   "execution_count": 11,
   "metadata": {},
   "outputs": [
    {
     "name": "stdout",
     "output_type": "stream",
     "text": [
      "Fitting 10 folds for each of 25 candidates, totalling 250 fits\n"
     ]
    },
    {
     "data": {
      "text/plain": [
       "GridSearchCV(cv=10, estimator=GradientBoostingClassifier(random_state=42),\n",
       "             n_jobs=-1,\n",
       "             param_grid={'ccp_alpha': [0.001, 0.002, 0.003, 0.004, 0.005],\n",
       "                         'max_depth': [4, 6, 8, 10, 12],\n",
       "                         'max_features': ['sqrt']},\n",
       "             verbose=2)"
      ]
     },
     "execution_count": 11,
     "metadata": {},
     "output_type": "execute_result"
    }
   ],
   "source": [
    "parameters = {'max_features':['sqrt'], 'max_depth':[4, 6, 8, 10, 12], 'ccp_alpha':[0.001, 0.002, 0.003, 0.004 ,0.005]}\n",
    "clf = GradientBoostingClassifier(random_state=42)\n",
    "clf_GS = GridSearchCV(clf, parameters, verbose=2, cv=10, n_jobs=-1)\n",
    "clf_GS.fit(subset_X_train, subset_y_train)\n"
   ]
  },
  {
   "cell_type": "code",
   "execution_count": 13,
   "metadata": {},
   "outputs": [
    {
     "name": "stdout",
     "output_type": "stream",
     "text": [
      "{'ccp_alpha': 0.001, 'max_depth': 12, 'max_features': 'sqrt'}\n"
     ]
    }
   ],
   "source": [
    "print(clf_GS.best_params_)"
   ]
  },
  {
   "cell_type": "code",
   "execution_count": 14,
   "metadata": {},
   "outputs": [
    {
     "name": "stdout",
     "output_type": "stream",
     "text": [
      "Test Accuracy of best model: 0.784\n"
     ]
    }
   ],
   "source": [
    "subset_y_test_pred = clf_GS.best_estimator_.predict(subset_X_test)\n",
    "test_acc = metrics.accuracy_score(subset_y_test, subset_y_test_pred)\n",
    "print('Test Accuracy of best model: {}'.format(test_acc))"
   ]
  },
  {
   "cell_type": "code",
   "execution_count": 19,
   "metadata": {},
   "outputs": [
    {
     "name": "stdout",
     "output_type": "stream",
     "text": [
      "[0.4826666666666667, 0.47700000000000004, 0.487, 0.48250000000000004, 0.48283333333333334]\n"
     ]
    }
   ],
   "source": [
    "t_list=[]\n",
    "for i in range(len(clf_GS.cv_results_['params'])):\n",
    "    if (clf_GS.cv_results_['params'][i]['ccp_alpha'] == 0.005):\n",
    "        t_list.append(clf_GS.cv_results_['mean_test_score'][i])\n",
    "print(t_list)"
   ]
  },
  {
   "cell_type": "code",
   "execution_count": 32,
   "metadata": {},
   "outputs": [
    {
     "name": "stdout",
     "output_type": "stream",
     "text": [
      "sampled from class 0 : 5923\n",
      "sampled from class 1 : 6742\n",
      "sampled from class 2 : 5958\n",
      "sampled from class 3 : 6131\n",
      "sampled from class 4 : 5842\n",
      "sampled from class 5 : 5421\n",
      "sampled from class 6 : 5918\n",
      "sampled from class 7 : 6265\n",
      "sampled from class 8 : 5851\n",
      "sampled from class 9 : 5949\n",
      "6000 6000\n",
      "1000 1000\n"
     ]
    }
   ],
   "source": [
    "#for learning rate analysis change subset_per_each_train as 100, 200, 300, 400, 500, 600\n",
    "\n",
    "#make this reproducible with seed fixed\n",
    "np.random.seed(42)\n",
    "\n",
    "#subsampling each class\n",
    "subset_X_train = []\n",
    "subset_y_train = []\n",
    "subset_per_each_train = 600\n",
    "for i in range(len(classes)):\n",
    "    _class_idx = np.where(y_train == i)[0]\n",
    "    print('sampled from class {} : {}'.format(i, len(_class_idx)))\n",
    "    np.random.shuffle(_class_idx)\n",
    "    subset_X_train.extend(X_train[_class_idx[:subset_per_each_train]])\n",
    "    subset_y_train.extend(y_train[_class_idx[:subset_per_each_train]])\n",
    "\n",
    "print(len(subset_X_train), len(subset_y_train))\n",
    "print(len(subset_X_test), len(subset_y_test))\n",
    "\n",
    "scaler = StandardScaler()\n",
    "subset_X_train = scaler.fit_transform(np.array(subset_X_train))\n",
    "subset_y_train = np.array(subset_y_train)"
   ]
  },
  {
   "cell_type": "code",
   "execution_count": 31,
   "metadata": {},
   "outputs": [
    {
     "name": "stdout",
     "output_type": "stream",
     "text": [
      "Train score 0.9920 Test Accuracy of best model: 0.653\n"
     ]
    }
   ],
   "source": [
    "l_clf = GradientBoostingClassifier(max_depth=12, max_features='sqrt', ccp_alpha=0.001, random_state=42)\n",
    "l_clf.fit(subset_X_train, subset_y_train)\n",
    "subset_y_test_pred = l_clf.predict(subset_X_test)\n",
    "train_score = l_clf.score(subset_X_train, subset_y_train)\n",
    "test_acc = metrics.accuracy_score(subset_y_test, subset_y_test_pred)\n",
    "print('Train score {:.4f} Test Accuracy of best model: {}'.format(train_score, test_acc))"
   ]
  },
  {
   "cell_type": "code",
   "execution_count": 5,
   "metadata": {},
   "outputs": [
    {
     "name": "stdout",
     "output_type": "stream",
     "text": [
      "Train time 153.4386 Test time 0.0151\n"
     ]
    }
   ],
   "source": [
    "#performance\n",
    "import time\n",
    "t1 = time.time()\n",
    "l_clf = GradientBoostingClassifier(max_depth=12, max_features='sqrt', ccp_alpha=0.001, random_state=42)\n",
    "l_clf.fit(subset_X_train, subset_y_train)\n",
    "end_t1 = time.time()\n",
    "train_score = l_clf.score(subset_X_train, subset_y_train)\n",
    "t2 = time.time()\n",
    "subset_y_test_pred = l_clf.predict(subset_X_test)\n",
    "#test_acc = metrics.accuracy_score(subset_y_test, subset_y_test_pred)\n",
    "end_t2 = time.time()\n",
    "print('Train time {:.4f} Test time {:.4f}'.format((end_t1 - t1), (end_t2 - t2)))"
   ]
  }
 ],
 "metadata": {
  "colab": {
   "collapsed_sections": [],
   "name": "n_MNIST_Decision_Tree_GB.ipynb",
   "provenance": []
  },
  "kernelspec": {
   "display_name": "Python 3",
   "language": "python",
   "name": "python3"
  },
  "language_info": {
   "codemirror_mode": {
    "name": "ipython",
    "version": 3
   },
   "file_extension": ".py",
   "mimetype": "text/x-python",
   "name": "python",
   "nbconvert_exporter": "python",
   "pygments_lexer": "ipython3",
   "version": "3.7.4"
  }
 },
 "nbformat": 4,
 "nbformat_minor": 1
}
