{
 "cells": [
  {
   "cell_type": "code",
   "execution_count": 1,
   "metadata": {
    "colab": {
     "base_uri": "https://localhost:8080/"
    },
    "id": "ecDYCofc3bXy",
    "outputId": "cf14de9e-f05f-48b6-9e10-b5f67534c965"
   },
   "outputs": [
    {
     "name": "stdout",
     "output_type": "stream",
     "text": [
      "train dataset: 60000 60000\n",
      "test dataset: 10000 10000\n"
     ]
    }
   ],
   "source": [
    "import numpy as np\n",
    "import pandas as pd\n",
    "from PIL import Image, ImageOps\n",
    "import os, copy, random\n",
    "import matplotlib.pyplot as plt\n",
    "import collections\n",
    "import scipy.io\n",
    "import gzip\n",
    "from sklearn.neighbors import KNeighborsClassifier\n",
    "from sklearn.model_selection import GridSearchCV\n",
    "from sklearn.preprocessing import StandardScaler\n",
    "from sklearn import metrics\n",
    "\n",
    "n_mnist_file = './dataset/n_mnist/mnist-with-awgn.mat'\n",
    "\n",
    "data = scipy.io.loadmat(n_mnist_file)\n",
    "X_train = data['train_x']\n",
    "y_train = data['train_y']\n",
    "X_test = data['test_x']\n",
    "y_test = data['test_y']\n",
    "print('train dataset: {} {}'.format(len(X_train), len(y_train)))\n",
    "print('test dataset: {} {}'.format(len(X_test), len(y_test)))"
   ]
  },
  {
   "cell_type": "code",
   "execution_count": 2,
   "metadata": {
    "colab": {
     "base_uri": "https://localhost:8080/",
     "height": 300
    },
    "id": "58evoKpt3xqV",
    "outputId": "1ab9fa24-b5bc-4296-c3e3-3fa62c4a34c8"
   },
   "outputs": [
    {
     "name": "stdout",
     "output_type": "stream",
     "text": [
      "(784,)\n",
      "2\n"
     ]
    },
    {
     "data": {
      "image/png": "[encoded data removed]",
      "text/plain": [
       "<Figure size 432x288 with 1 Axes>"
      ]
     },
     "metadata": {
      "needs_background": "light"
     },
     "output_type": "display_data"
    }
   ],
   "source": [
    "# reformat label data.\n",
    "y_train = np.array([int(np.where(y_train[i] == 1)[0]) for i in range(len(y_train))])\n",
    "y_test = np.array([int(np.where(y_test[i] == 1)[0]) for i in range(len(y_test))])\n",
    "# visualize and check data and label.\n",
    "classes=('0', '1', '2', '3', '4', '5', '6', '7', '8', '9')\n",
    "index = 30\n",
    "print(X_train[0].shape)\n",
    "plt.imshow(X_train[index].reshape(28,28))\n",
    "print(classes[y_train[index]])"
   ]
  },
  {
   "cell_type": "code",
   "execution_count": 3,
   "metadata": {
    "colab": {
     "base_uri": "https://localhost:8080/"
    },
    "id": "3eNiuY3x33mh",
    "outputId": "30a60953-580b-4ad8-a3a3-cf2a639f5c27"
   },
   "outputs": [
    {
     "name": "stdout",
     "output_type": "stream",
     "text": [
      "Counter({1: 6742, 7: 6265, 3: 6131, 2: 5958, 9: 5949, 0: 5923, 6: 5918, 8: 5851, 4: 5842, 5: 5421})\n",
      "Counter({1: 1135, 2: 1032, 7: 1028, 3: 1010, 9: 1009, 4: 982, 0: 980, 8: 974, 6: 958, 5: 892})\n"
     ]
    }
   ],
   "source": [
    "# count number of each class -> check data balance.\n",
    "train_count = collections.Counter(y_train)\n",
    "print(train_count)\n",
    "test_count = collections.Counter(y_test)\n",
    "print(test_count)"
   ]
  },
  {
   "cell_type": "code",
   "execution_count": 4,
   "metadata": {
    "colab": {
     "base_uri": "https://localhost:8080/"
    },
    "id": "zT54wtxtO13-",
    "outputId": "a8ee8b68-5220-4de8-a3c9-e5b415e40b05"
   },
   "outputs": [
    {
     "name": "stdout",
     "output_type": "stream",
     "text": [
      "sampled from class 0 : 5923\n",
      "sampled from class 1 : 6742\n",
      "sampled from class 2 : 5958\n",
      "sampled from class 3 : 6131\n",
      "sampled from class 4 : 5842\n",
      "sampled from class 5 : 5421\n",
      "sampled from class 6 : 5918\n",
      "sampled from class 7 : 6265\n",
      "sampled from class 8 : 5851\n",
      "sampled from class 9 : 5949\n",
      "sampled from class 0 : 980\n",
      "sampled from class 1 : 1135\n",
      "sampled from class 2 : 1032\n",
      "sampled from class 3 : 1010\n",
      "sampled from class 4 : 982\n",
      "sampled from class 5 : 892\n",
      "sampled from class 6 : 958\n",
      "sampled from class 7 : 1028\n",
      "sampled from class 8 : 974\n",
      "sampled from class 9 : 1009\n",
      "6000 6000\n",
      "1000 1000\n"
     ]
    }
   ],
   "source": [
    "#make this reproducible with seed fixed\n",
    "np.random.seed(42)\n",
    "\n",
    "#subsampling each class\n",
    "subset_X_train = []\n",
    "subset_y_train = []\n",
    "subset_per_each_train = 600\n",
    "for i in range(len(classes)):\n",
    "    _class_idx = np.where(y_train == i)[0]\n",
    "    print('sampled from class {} : {}'.format(i, len(_class_idx)))\n",
    "    np.random.shuffle(_class_idx)\n",
    "    subset_X_train.extend(X_train[_class_idx[:subset_per_each_train]])\n",
    "    subset_y_train.extend(y_train[_class_idx[:subset_per_each_train]])\n",
    "\n",
    "subset_X_test = []\n",
    "subset_y_test = []\n",
    "subset_per_each_test = 100\n",
    "for i in range(len(classes)):\n",
    "    _class_idx = np.where(y_test == i)[0]\n",
    "    print('sampled from class {} : {}'.format(i, len(_class_idx)))\n",
    "    np.random.shuffle(_class_idx)\n",
    "    subset_X_test.extend(X_train[_class_idx[:subset_per_each_test]])\n",
    "    subset_y_test.extend(y_train[_class_idx[:subset_per_each_test]])\n",
    "\n",
    "print(len(subset_X_train), len(subset_y_train))\n",
    "print(len(subset_X_test), len(subset_y_test))\n",
    "\n",
    "scaler = StandardScaler()\n",
    "subset_X_train = scaler.fit_transform(np.array(subset_X_train))\n",
    "subset_y_train = np.array(subset_y_train)\n",
    "subset_X_test = scaler.fit_transform(np.array(subset_X_test))\n",
    "subset_y_test = np.array(subset_y_test)\n"
   ]
  },
  {
   "cell_type": "code",
   "execution_count": 5,
   "metadata": {
    "colab": {
     "base_uri": "https://localhost:8080/",
     "height": 388
    },
    "id": "yr3o8K073_eV",
    "outputId": "f02c85b6-d8c3-473c-c115-9be13c5f168e"
   },
   "outputs": [
    {
     "name": "stdout",
     "output_type": "stream",
     "text": [
      "Fitting 10 folds for each of 6 candidates, totalling 60 fits\n"
     ]
    },
    {
     "data": {
      "text/plain": [
       "GridSearchCV(cv=10, estimator=KNeighborsClassifier(), n_jobs=-1,\n",
       "             param_grid={'n_neighbors': [3, 5, 7, 9, 11, 13],\n",
       "                         'weights': ['uniform']},\n",
       "             verbose=2)"
      ]
     },
     "execution_count": 5,
     "metadata": {},
     "output_type": "execute_result"
    }
   ],
   "source": [
    "parameters = {'weights':[\"uniform\"], 'n_neighbors':[3, 5, 7, 9, 11, 13]}\n",
    "clf = KNeighborsClassifier()\n",
    "clf_GS = GridSearchCV(clf, parameters, verbose=2, cv=10, n_jobs=-1)\n",
    "clf_GS.fit(subset_X_train, subset_y_train)\n"
   ]
  },
  {
   "cell_type": "code",
   "execution_count": 6,
   "metadata": {
    "id": "zNEvHXBLb4kj"
   },
   "outputs": [
    {
     "name": "stdout",
     "output_type": "stream",
     "text": [
      "{'n_neighbors': 11, 'weights': 'uniform'}\n",
      "[0.785      0.80516667 0.81166667 0.81316667 0.8135     0.81266667]\n"
     ]
    }
   ],
   "source": [
    "print(clf_GS.best_params_)\n",
    "print(clf_GS.cv_results_['mean_test_score'])"
   ]
  },
  {
   "cell_type": "code",
   "execution_count": 7,
   "metadata": {
    "colab": {
     "base_uri": "https://localhost:8080/"
    },
    "id": "HnpRubicPulf",
    "outputId": "670ebff6-6e96-459a-f601-554175440368"
   },
   "outputs": [
    {
     "name": "stdout",
     "output_type": "stream",
     "text": [
      "Test Accuracy of best model: 0.838\n"
     ]
    }
   ],
   "source": [
    "subset_y_test_pred = clf_GS.best_estimator_.predict(subset_X_test)\n",
    "test_acc = metrics.accuracy_score(subset_y_test, subset_y_test_pred)\n",
    "print('Test Accuracy of best model: {}'.format(test_acc))"
   ]
  },
  {
   "cell_type": "code",
   "execution_count": 8,
   "metadata": {
    "id": "KHq0nJssb7Dy"
   },
   "outputs": [
    {
     "name": "stdout",
     "output_type": "stream",
     "text": [
      "sampled from class 0 : 5923\n",
      "sampled from class 1 : 6742\n",
      "sampled from class 2 : 5958\n",
      "sampled from class 3 : 6131\n",
      "sampled from class 4 : 5842\n",
      "sampled from class 5 : 5421\n",
      "sampled from class 6 : 5918\n",
      "sampled from class 7 : 6265\n",
      "sampled from class 8 : 5851\n",
      "sampled from class 9 : 5949\n",
      "6000 6000\n",
      "1000 1000\n"
     ]
    }
   ],
   "source": [
    "#for learning rate analysis change subset_per_each_train as 100, 200, 300, 400, 500, 600\n",
    "\n",
    "#make this reproducible with seed fixed\n",
    "np.random.seed(42)\n",
    "\n",
    "#subsampling each class\n",
    "subset_X_train = []\n",
    "subset_y_train = []\n",
    "subset_per_each_train = 600\n",
    "for i in range(len(classes)):\n",
    "    _class_idx = np.where(y_train == i)[0]\n",
    "    print('sampled from class {} : {}'.format(i, len(_class_idx)))\n",
    "    np.random.shuffle(_class_idx)\n",
    "    subset_X_train.extend(X_train[_class_idx[:subset_per_each_train]])\n",
    "    subset_y_train.extend(y_train[_class_idx[:subset_per_each_train]])\n",
    "\n",
    "print(len(subset_X_train), len(subset_y_train))\n",
    "print(len(subset_X_test), len(subset_y_test))\n",
    "\n",
    "scaler = StandardScaler()\n",
    "subset_X_train = scaler.fit_transform(np.array(subset_X_train))\n",
    "subset_y_train = np.array(subset_y_train)"
   ]
  },
  {
   "cell_type": "code",
   "execution_count": 9,
   "metadata": {
    "id": "HKrnLdHnb8FT"
   },
   "outputs": [
    {
     "name": "stdout",
     "output_type": "stream",
     "text": [
      "Train score 0.8538 Test Accuracy of best model: 0.838\n"
     ]
    }
   ],
   "source": [
    "l_clf = KNeighborsClassifier(n_neighbors=11, weights=\"uniform\")\n",
    "l_clf.fit(subset_X_train, subset_y_train)\n",
    "subset_y_test_pred = l_clf.predict(subset_X_test)\n",
    "train_score = l_clf.score(subset_X_train, subset_y_train)\n",
    "test_acc = metrics.accuracy_score(subset_y_test, subset_y_test_pred)\n",
    "print('Train score {:.4f} Test Accuracy of best model: {}'.format(train_score, test_acc))"
   ]
  },
  {
   "cell_type": "code",
   "execution_count": 10,
   "metadata": {},
   "outputs": [
    {
     "name": "stdout",
     "output_type": "stream",
     "text": [
      "[0.8701666666666666, 0.884, 0.87, 0.8731666666666666, 0.8678333333333333, 0.8675, 0.863, 0.8625, 0.857, 0.8538333333333333, 0.8526666666666667, 0.8501666666666666]\n",
      "[0.793, 0.825, 0.819, 0.833, 0.833, 0.837, 0.836, 0.834, 0.831, 0.838, 0.831, 0.829]\n"
     ]
    }
   ],
   "source": [
    "train_score_list=[]\n",
    "test_acc_list=[]\n",
    "for nei in range(2, 14):\n",
    "    l_clf = KNeighborsClassifier(n_neighbors=nei, weights=\"uniform\")\n",
    "    l_clf.fit(subset_X_train, subset_y_train)\n",
    "    subset_y_test_pred = l_clf.predict(subset_X_test)\n",
    "    train_score = l_clf.score(subset_X_train, subset_y_train)\n",
    "    test_acc = metrics.accuracy_score(subset_y_test, subset_y_test_pred)\n",
    "    train_score_list.append(train_score)\n",
    "    test_acc_list.append(test_acc)\n",
    "print(train_score_list)\n",
    "print(test_acc_list)"
   ]
  },
  {
   "cell_type": "code",
   "execution_count": 11,
   "metadata": {},
   "outputs": [
    {
     "name": "stdout",
     "output_type": "stream",
     "text": [
      "Train time 0.0099 Test time 0.3781\n"
     ]
    }
   ],
   "source": [
    "#performance\n",
    "import time\n",
    "t1 = time.time()\n",
    "l_clf = KNeighborsClassifier(n_neighbors=11, weights=\"uniform\")\n",
    "l_clf.fit(subset_X_train, subset_y_train)\n",
    "end_t1 = time.time()\n",
    "train_score = l_clf.score(subset_X_train, subset_y_train)\n",
    "t2 = time.time()\n",
    "subset_y_test_pred = l_clf.predict(subset_X_test)\n",
    "#test_acc = metrics.accuracy_score(subset_y_test, subset_y_test_pred)\n",
    "end_t2 = time.time()\n",
    "print('Train time {:.4f} Test time {:.4f}'.format((end_t1 - t1), (end_t2 - t2)))"
   ]
  }
 ],
 "metadata": {
  "colab": {
   "collapsed_sections": [],
   "name": "n_MNIST_kNN.ipynb",
   "provenance": []
  },
  "kernelspec": {
   "display_name": "Python 3",
   "language": "python",
   "name": "python3"
  },
  "language_info": {
   "codemirror_mode": {
    "name": "ipython",
    "version": 3
   },
   "file_extension": ".py",
   "mimetype": "text/x-python",
   "name": "python",
   "nbconvert_exporter": "python",
   "pygments_lexer": "ipython3",
   "version": "3.7.4"
  }
 },
 "nbformat": 4,
 "nbformat_minor": 1
}
