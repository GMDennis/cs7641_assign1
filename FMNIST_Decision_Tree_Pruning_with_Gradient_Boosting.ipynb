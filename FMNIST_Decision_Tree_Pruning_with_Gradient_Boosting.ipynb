{
 "cells": [
  {
   "cell_type": "code",
   "execution_count": 8,
   "metadata": {
    "id": "ecDYCofc3bXy"
   },
   "outputs": [],
   "source": [
    "import numpy as np\n",
    "import pandas as pd\n",
    "from PIL import Image, ImageOps\n",
    "import os, copy, random\n",
    "import matplotlib.pyplot as plt\n",
    "import collections\n",
    "from sklearn.model_selection import GridSearchCV\n",
    "from sklearn.model_selection import StratifiedKFold\n",
    "from sklearn.tree import DecisionTreeClassifier\n",
    "from sklearn.ensemble import GradientBoostingClassifier\n",
    "from sklearn.preprocessing import StandardScaler\n",
    "from sklearn import metrics\n",
    "\n",
    "#Reference : https://github.com/zalandoresearch/fashion-mnist utils/mnist_reader.\n",
    "def load_mnist(path, kind='train'):\n",
    "    import os\n",
    "    import gzip\n",
    "    import numpy as np\n",
    "\n",
    "    \"\"\"Load MNIST data from `path`\"\"\"\n",
    "    labels_path = os.path.join(path,\n",
    "                               '%s-labels-idx1-ubyte.gz'\n",
    "                               % kind)\n",
    "    images_path = os.path.join(path,\n",
    "                               '%s-images-idx3-ubyte.gz'\n",
    "                               % kind)\n",
    "\n",
    "    with gzip.open(labels_path, 'rb') as lbpath:\n",
    "        labels = np.frombuffer(lbpath.read(), dtype=np.uint8,\n",
    "                               offset=8)\n",
    "\n",
    "    with gzip.open(images_path, 'rb') as imgpath:\n",
    "        images = np.frombuffer(imgpath.read(), dtype=np.uint8,\n",
    "                               offset=16).reshape(len(labels), 784)\n",
    "\n",
    "    return images, labels"
   ]
  },
  {
   "cell_type": "code",
   "execution_count": 9,
   "metadata": {
    "colab": {
     "base_uri": "https://localhost:8080/",
     "height": 282
    },
    "id": "58evoKpt3xqV",
    "outputId": "b518d8ec-825b-4975-9030-be79eda9d948"
   },
   "outputs": [
    {
     "name": "stdout",
     "output_type": "stream",
     "text": [
      "Sandal\n"
     ]
    },
    {
     "data": {
      "image/png": "[encoded data removed]",
      "text/plain": [
       "<Figure size 432x288 with 1 Axes>"
      ]
     },
     "metadata": {
      "needs_background": "light"
     },
     "output_type": "display_data"
    }
   ],
   "source": [
    "classes=('T-shirt/top', 'Trouser', 'Pullover', 'Dress', 'Coat',\n",
    "        'Sandal', 'Shirt', 'Sneaker', 'Bag', 'Ankle boot')\n",
    "X_train, y_train = load_mnist('./dataset/fashion_mnist/', kind='train')\n",
    "X_test, y_test = load_mnist('./dataset/fashion_mnist/', kind='t10k')\n",
    "# visualize and check data and label.\n",
    "index = 12\n",
    "plt.imshow(X_train[index].reshape(28,28))\n",
    "print(classes[y_train[index]])"
   ]
  },
  {
   "cell_type": "code",
   "execution_count": 10,
   "metadata": {
    "colab": {
     "base_uri": "https://localhost:8080/"
    },
    "id": "3eNiuY3x33mh",
    "outputId": "e5fc36b1-e1d6-4174-bec6-504b430e95b4"
   },
   "outputs": [
    {
     "name": "stdout",
     "output_type": "stream",
     "text": [
      "Counter({9: 6000, 0: 6000, 3: 6000, 2: 6000, 7: 6000, 5: 6000, 1: 6000, 6: 6000, 4: 6000, 8: 6000})\n",
      "Counter({9: 1000, 2: 1000, 1: 1000, 6: 1000, 4: 1000, 5: 1000, 7: 1000, 3: 1000, 8: 1000, 0: 1000})\n"
     ]
    }
   ],
   "source": [
    "# count number of each class -> check data balance.\n",
    "train_count = collections.Counter(y_train)\n",
    "print(train_count)\n",
    "test_count = collections.Counter(y_test)\n",
    "print(test_count)"
   ]
  },
  {
   "cell_type": "code",
   "execution_count": 11,
   "metadata": {
    "colab": {
     "base_uri": "https://localhost:8080/"
    },
    "id": "zT54wtxtO13-",
    "outputId": "6ea000ec-8089-49f4-ad0b-e0fdbd64ee1a"
   },
   "outputs": [
    {
     "name": "stdout",
     "output_type": "stream",
     "text": [
      "sampled from class 0 : 6000\n",
      "sampled from class 1 : 6000\n",
      "sampled from class 2 : 6000\n",
      "sampled from class 3 : 6000\n",
      "sampled from class 4 : 6000\n",
      "sampled from class 5 : 6000\n",
      "sampled from class 6 : 6000\n",
      "sampled from class 7 : 6000\n",
      "sampled from class 8 : 6000\n",
      "sampled from class 9 : 6000\n",
      "sampled from class 0 : 1000\n",
      "sampled from class 1 : 1000\n",
      "sampled from class 2 : 1000\n",
      "sampled from class 3 : 1000\n",
      "sampled from class 4 : 1000\n",
      "sampled from class 5 : 1000\n",
      "sampled from class 6 : 1000\n",
      "sampled from class 7 : 1000\n",
      "sampled from class 8 : 1000\n",
      "sampled from class 9 : 1000\n",
      "6000 6000\n",
      "1000 1000\n"
     ]
    }
   ],
   "source": [
    "#make this reproducible with seed fixed\n",
    "np.random.seed(42)\n",
    "\n",
    "#subsampling each class\n",
    "subset_X_train = []\n",
    "subset_y_train = []\n",
    "subset_per_each_train = 600\n",
    "for i in range(len(classes)):\n",
    "    _class_idx = np.where(y_train == i)[0]\n",
    "    print('sampled from class {} : {}'.format(i, len(_class_idx)))\n",
    "    np.random.shuffle(_class_idx)\n",
    "    subset_X_train.extend(X_train[_class_idx[:subset_per_each_train]])\n",
    "    subset_y_train.extend(y_train[_class_idx[:subset_per_each_train]])\n",
    "\n",
    "subset_X_test = []\n",
    "subset_y_test = []\n",
    "subset_per_each_test = 100\n",
    "for i in range(len(classes)):\n",
    "    _class_idx = np.where(y_test == i)[0]\n",
    "    print('sampled from class {} : {}'.format(i, len(_class_idx)))\n",
    "    np.random.shuffle(_class_idx)\n",
    "    subset_X_test.extend(X_train[_class_idx[:subset_per_each_test]])\n",
    "    subset_y_test.extend(y_train[_class_idx[:subset_per_each_test]])\n",
    "\n",
    "print(len(subset_X_train), len(subset_y_train))\n",
    "print(len(subset_X_test), len(subset_y_test))\n",
    "\n",
    "scaler = StandardScaler()\n",
    "subset_X_train = scaler.fit_transform(np.array(subset_X_train))\n",
    "subset_y_train = np.array(subset_y_train)\n",
    "subset_X_test = scaler.fit_transform(np.array(subset_X_test))\n",
    "subset_y_test = np.array(subset_y_test)\n"
   ]
  },
  {
   "cell_type": "code",
   "execution_count": 5,
   "metadata": {},
   "outputs": [],
   "source": [
    "clf = DecisionTreeClassifier(random_state=42)\n",
    "path = clf.cost_complexity_pruning_path(subset_X_train, subset_y_train)\n",
    "ccp_alphas, impurities = path.ccp_alphas, path.impurities"
   ]
  },
  {
   "cell_type": "code",
   "execution_count": 6,
   "metadata": {},
   "outputs": [
    {
     "data": {
      "text/plain": [
       "Text(0.5, 1.0, 'Total Impurity vs effective alpha for training set')"
      ]
     },
     "execution_count": 6,
     "metadata": {},
     "output_type": "execute_result"
    },
    {
     "data": {
      "image/png": "[encoded data removed]",
      "text/plain": [
       "<Figure size 432x288 with 1 Axes>"
      ]
     },
     "metadata": {
      "needs_background": "light"
     },
     "output_type": "display_data"
    }
   ],
   "source": [
    "fig, ax = plt.subplots()\n",
    "ax.plot(ccp_alphas[:-1], impurities[:-1], marker='o', drawstyle=\"steps-post\")\n",
    "ax.set_xlabel(\"effective alpha\")\n",
    "ax.set_ylabel(\"total impurity of leaves\")\n",
    "ax.set_title(\"Total Impurity vs effective alpha for training set\")"
   ]
  },
  {
   "cell_type": "code",
   "execution_count": 8,
   "metadata": {},
   "outputs": [
    {
     "name": "stdout",
     "output_type": "stream",
     "text": [
      "512\n",
      "[0.         0.00016289 0.00016304 0.00016374 0.00016429 0.0001645\n",
      " 0.00016505 0.00016546 0.00016563 0.00016583]\n",
      "[0.0, 0.0002, 0.0002, 0.0002, 0.0002, 0.0002, 0.0002, 0.0002, 0.0002, 0.0002]\n",
      "54\n"
     ]
    }
   ],
   "source": [
    "print(len(ccp_alphas))\n",
    "ccp_alpha_round = [np.around(num, 4) for num in ccp_alphas]\n",
    "print(ccp_alphas[:10])\n",
    "print(ccp_alpha_round[:10])\n",
    "\n",
    "ccp_alpha_list=[]\n",
    "[ccp_alpha_list.append(x) for x in ccp_alpha_round if x not in ccp_alpha_list]\n",
    "print(len(ccp_alpha_list))"
   ]
  },
  {
   "cell_type": "code",
   "execution_count": 9,
   "metadata": {},
   "outputs": [
    {
     "name": "stdout",
     "output_type": "stream",
     "text": [
      "ccp_alpha 0.0\n",
      "ccp_alpha 0.0002\n",
      "ccp_alpha 0.0003\n",
      "ccp_alpha 0.0004\n",
      "ccp_alpha 0.0005\n",
      "ccp_alpha 0.0006\n",
      "ccp_alpha 0.0007\n",
      "ccp_alpha 0.0008\n",
      "ccp_alpha 0.0009\n",
      "ccp_alpha 0.001\n",
      "ccp_alpha 0.0011\n",
      "ccp_alpha 0.0012\n",
      "ccp_alpha 0.0013\n",
      "ccp_alpha 0.0014\n",
      "ccp_alpha 0.0015\n",
      "ccp_alpha 0.0016\n",
      "ccp_alpha 0.0017\n",
      "ccp_alpha 0.0019\n",
      "ccp_alpha 0.002\n",
      "ccp_alpha 0.0021\n",
      "ccp_alpha 0.0022\n",
      "ccp_alpha 0.0023\n",
      "ccp_alpha 0.0024\n",
      "ccp_alpha 0.0026\n",
      "ccp_alpha 0.0027\n",
      "ccp_alpha 0.0028\n",
      "ccp_alpha 0.0032\n",
      "ccp_alpha 0.0039\n",
      "ccp_alpha 0.004\n",
      "ccp_alpha 0.0041\n",
      "ccp_alpha 0.0044\n",
      "ccp_alpha 0.0047\n",
      "ccp_alpha 0.005\n",
      "ccp_alpha 0.0054\n",
      "ccp_alpha 0.0055\n",
      "ccp_alpha 0.0058\n",
      "ccp_alpha 0.0061\n",
      "ccp_alpha 0.0062\n",
      "ccp_alpha 0.0071\n",
      "ccp_alpha 0.0082\n",
      "ccp_alpha 0.0083\n",
      "ccp_alpha 0.0085\n",
      "ccp_alpha 0.0093\n",
      "ccp_alpha 0.0111\n",
      "ccp_alpha 0.0159\n",
      "ccp_alpha 0.0199\n",
      "ccp_alpha 0.0243\n",
      "ccp_alpha 0.0296\n",
      "ccp_alpha 0.0418\n",
      "ccp_alpha 0.0456\n",
      "ccp_alpha 0.0479\n",
      "ccp_alpha 0.0529\n",
      "ccp_alpha 0.0741\n",
      "ccp_alpha 0.0829\n"
     ]
    }
   ],
   "source": [
    "clfs = []\n",
    "for ccp_alpha in ccp_alpha_list:\n",
    "    clf = GradientBoostingClassifier(random_state=42, ccp_alpha=ccp_alpha, max_features=\"sqrt\", max_depth=12)\n",
    "    clf.fit(subset_X_train, subset_y_train)\n",
    "    clfs.append(clf)\n",
    "    print('ccp_alpha', ccp_alpha)\n"
   ]
  },
  {
   "cell_type": "code",
   "execution_count": 10,
   "metadata": {},
   "outputs": [
    {
     "data": {
      "image/png": "[encoded data removed]",
      "text/plain": [
       "<Figure size 432x288 with 1 Axes>"
      ]
     },
     "metadata": {
      "needs_background": "light"
     },
     "output_type": "display_data"
    }
   ],
   "source": [
    "train_scores = [clf.score(subset_X_train, subset_y_train) for clf in clfs]\n",
    "test_scores = [clf.score(subset_X_test, subset_y_test) for clf in clfs]\n",
    "\n",
    "train_scores = train_scores[:-2]\n",
    "test_scores = test_scores[:-2]\n",
    "_ccp_alpha_list = ccp_alpha_list[:-2]\n",
    "\n",
    "fig, ax = plt.subplots()\n",
    "ax.set_xlabel(\"alpha\")\n",
    "ax.set_ylabel(\"accuracy\")\n",
    "ax.set_title(\"Accuracy vs alpha for training and testing sets\")\n",
    "ax.plot(_ccp_alpha_list, train_scores, marker='o', label=\"train\",\n",
    "        drawstyle=\"steps-post\")\n",
    "ax.plot(_ccp_alpha_list, test_scores, marker='o', label=\"test\",\n",
    "        drawstyle=\"steps-post\")\n",
    "ax.legend()\n",
    "plt.show()"
   ]
  },
  {
   "cell_type": "code",
   "execution_count": 12,
   "metadata": {
    "colab": {
     "base_uri": "https://localhost:8080/"
    },
    "id": "HnpRubicPulf",
    "outputId": "773ad758-adfe-4e9b-db51-3ffba3c5672c"
   },
   "outputs": [
    {
     "name": "stdout",
     "output_type": "stream",
     "text": [
      "Fitting 10 folds for each of 25 candidates, totalling 250 fits\n"
     ]
    },
    {
     "data": {
      "text/plain": [
       "GridSearchCV(cv=10, estimator=GradientBoostingClassifier(random_state=42),\n",
       "             n_jobs=-1,\n",
       "             param_grid={'ccp_alpha': [0.002, 0.004, 0.006, 0.008, 0.01],\n",
       "                         'max_depth': [4, 6, 8, 10, 12],\n",
       "                         'max_features': ['sqrt']},\n",
       "             verbose=2)"
      ]
     },
     "execution_count": 12,
     "metadata": {},
     "output_type": "execute_result"
    }
   ],
   "source": [
    "parameters = {'max_features':['sqrt'], 'max_depth':[4, 6, 8, 10, 12], 'ccp_alpha':[0.002, 0.004, 0.006, 0.008, 0.010]}\n",
    "clf = GradientBoostingClassifier(random_state=42)\n",
    "clf_GS = GridSearchCV(clf, parameters, verbose=2, cv=10, n_jobs=-1)\n",
    "clf_GS.fit(subset_X_train, subset_y_train)\n"
   ]
  },
  {
   "cell_type": "code",
   "execution_count": 13,
   "metadata": {},
   "outputs": [
    {
     "name": "stdout",
     "output_type": "stream",
     "text": [
      "{'ccp_alpha': 0.002, 'max_depth': 8, 'max_features': 'sqrt'}\n"
     ]
    }
   ],
   "source": [
    "print(clf_GS.best_params_)"
   ]
  },
  {
   "cell_type": "code",
   "execution_count": 14,
   "metadata": {},
   "outputs": [
    {
     "name": "stdout",
     "output_type": "stream",
     "text": [
      "Test Accuracy of best model: 0.758\n"
     ]
    }
   ],
   "source": [
    "subset_y_test_pred = clf_GS.best_estimator_.predict(subset_X_test)\n",
    "test_acc = metrics.accuracy_score(subset_y_test, subset_y_test_pred)\n",
    "print('Test Accuracy of best model: {}'.format(test_acc))"
   ]
  },
  {
   "cell_type": "code",
   "execution_count": 19,
   "metadata": {
    "id": "Q3pq0TfrUPxw"
   },
   "outputs": [
    {
     "name": "stdout",
     "output_type": "stream",
     "text": [
      "[0.7043333333333333, 0.6986666666666667, 0.7026666666666668, 0.7005, 0.7073333333333334]\n"
     ]
    }
   ],
   "source": [
    "t_list=[]\n",
    "for i in range(len(clf_GS.cv_results_['params'])):\n",
    "    if (clf_GS.cv_results_['params'][i]['ccp_alpha'] == 0.010):\n",
    "        t_list.append(clf_GS.cv_results_['mean_test_score'][i])\n",
    "print(t_list)"
   ]
  },
  {
   "cell_type": "code",
   "execution_count": 35,
   "metadata": {
    "id": "hczAI6PgUSUi"
   },
   "outputs": [
    {
     "name": "stdout",
     "output_type": "stream",
     "text": [
      "sampled from class 0 : 6000\n",
      "sampled from class 1 : 6000\n",
      "sampled from class 2 : 6000\n",
      "sampled from class 3 : 6000\n",
      "sampled from class 4 : 6000\n",
      "sampled from class 5 : 6000\n",
      "sampled from class 6 : 6000\n",
      "sampled from class 7 : 6000\n",
      "sampled from class 8 : 6000\n",
      "sampled from class 9 : 6000\n",
      "6000 6000\n",
      "1000 1000\n"
     ]
    }
   ],
   "source": [
    "#for learning rate analysis change subset_per_each_train as 100, 200, 300, 400, 500, 600\n",
    "\n",
    "#make this reproducible with seed fixed\n",
    "np.random.seed(42)\n",
    "\n",
    "#subsampling each class\n",
    "subset_X_train = []\n",
    "subset_y_train = []\n",
    "subset_per_each_train = 600\n",
    "for i in range(len(classes)):\n",
    "    _class_idx = np.where(y_train == i)[0]\n",
    "    print('sampled from class {} : {}'.format(i, len(_class_idx)))\n",
    "    np.random.shuffle(_class_idx)\n",
    "    subset_X_train.extend(X_train[_class_idx[:subset_per_each_train]])\n",
    "    subset_y_train.extend(y_train[_class_idx[:subset_per_each_train]])\n",
    "\n",
    "print(len(subset_X_train), len(subset_y_train))\n",
    "print(len(subset_X_test), len(subset_y_test))\n",
    "\n",
    "scaler = StandardScaler()\n",
    "subset_X_train = scaler.fit_transform(np.array(subset_X_train))\n",
    "subset_y_train = np.array(subset_y_train)"
   ]
  },
  {
   "cell_type": "code",
   "execution_count": 33,
   "metadata": {
    "id": "fJIgcBhcUUpk"
   },
   "outputs": [
    {
     "name": "stdout",
     "output_type": "stream",
     "text": [
      "Train score 0.8950 Test Accuracy of best model: 0.752\n"
     ]
    }
   ],
   "source": [
    "l_clf = GradientBoostingClassifier(max_depth=8, max_features='sqrt', ccp_alpha=0.002, random_state=42)\n",
    "l_clf.fit(subset_X_train, subset_y_train)\n",
    "subset_y_test_pred = l_clf.predict(subset_X_test)\n",
    "train_score = l_clf.score(subset_X_train, subset_y_train)\n",
    "test_acc = metrics.accuracy_score(subset_y_test, subset_y_test_pred)\n",
    "print('Train score {:.4f} Test Accuracy of best model: {}'.format(train_score, test_acc))"
   ]
  },
  {
   "cell_type": "code",
   "execution_count": 12,
   "metadata": {},
   "outputs": [
    {
     "name": "stdout",
     "output_type": "stream",
     "text": [
      "Train time 83.9443 Test time 0.0566\n"
     ]
    }
   ],
   "source": [
    "#performance\n",
    "import time\n",
    "t1 = time.time()\n",
    "l_clf = GradientBoostingClassifier(max_depth=8, max_features='sqrt', ccp_alpha=0.002, random_state=42)\n",
    "l_clf.fit(subset_X_train, subset_y_train)\n",
    "end_t1 = time.time()\n",
    "train_score = l_clf.score(subset_X_train, subset_y_train)\n",
    "t2 = time.time()\n",
    "subset_y_test_pred = l_clf.predict(subset_X_test)\n",
    "#test_acc = metrics.accuracy_score(subset_y_test, subset_y_test_pred)\n",
    "end_t2 = time.time()\n",
    "print('Train time {:.4f} Test time {:.4f}'.format((end_t1 - t1), (end_t2 - t2)))"
   ]
  }
 ],
 "metadata": {
  "colab": {
   "collapsed_sections": [],
   "name": "FMNIST_Decision_Tree_GB.ipynb",
   "provenance": []
  },
  "kernelspec": {
   "display_name": "Python 3",
   "language": "python",
   "name": "python3"
  },
  "language_info": {
   "codemirror_mode": {
    "name": "ipython",
    "version": 3
   },
   "file_extension": ".py",
   "mimetype": "text/x-python",
   "name": "python",
   "nbconvert_exporter": "python",
   "pygments_lexer": "ipython3",
   "version": "3.7.4"
  }
 },
 "nbformat": 4,
 "nbformat_minor": 1
}
