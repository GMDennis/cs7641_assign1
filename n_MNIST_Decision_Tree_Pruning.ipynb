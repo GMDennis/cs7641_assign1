{
 "cells": [
  {
   "cell_type": "code",
   "execution_count": 5,
   "metadata": {
    "colab": {
     "base_uri": "https://localhost:8080/"
    },
    "id": "ecDYCofc3bXy",
    "outputId": "8ac2bc25-12aa-4ded-85d6-f661a05754e4"
   },
   "outputs": [
    {
     "name": "stdout",
     "output_type": "stream",
     "text": [
      "train dataset: 60000 60000\n",
      "test dataset: 10000 10000\n"
     ]
    }
   ],
   "source": [
    "import numpy as np\n",
    "import pandas as pd\n",
    "from PIL import Image, ImageOps\n",
    "import os, copy, random\n",
    "import matplotlib.pyplot as plt\n",
    "import collections\n",
    "import scipy.io\n",
    "import gzip\n",
    "from sklearn.tree import DecisionTreeClassifier\n",
    "from sklearn.model_selection import GridSearchCV\n",
    "from sklearn.preprocessing import StandardScaler\n",
    "from sklearn import metrics\n",
    "\n",
    "n_mnist_file = './dataset/n_mnist/mnist-with-awgn.mat'\n",
    "\n",
    "data = scipy.io.loadmat(n_mnist_file)\n",
    "X_train = data['train_x']\n",
    "y_train = data['train_y']\n",
    "X_test = data['test_x']\n",
    "y_test = data['test_y']\n",
    "print('train dataset: {} {}'.format(len(X_train), len(y_train)))\n",
    "print('test dataset: {} {}'.format(len(X_test), len(y_test)))"
   ]
  },
  {
   "cell_type": "code",
   "execution_count": 6,
   "metadata": {
    "colab": {
     "base_uri": "https://localhost:8080/",
     "height": 300
    },
    "id": "58evoKpt3xqV",
    "outputId": "eed8b903-bac7-4d87-c3c2-936b53bcca88"
   },
   "outputs": [
    {
     "name": "stdout",
     "output_type": "stream",
     "text": [
      "(784,)\n",
      "2\n"
     ]
    },
    {
     "data": {
      "image/png": "[encoded data removed]",
      "text/plain": [
       "<Figure size 432x288 with 1 Axes>"
      ]
     },
     "metadata": {
      "needs_background": "light"
     },
     "output_type": "display_data"
    }
   ],
   "source": [
    "# reformat label data.\n",
    "y_train = np.array([int(np.where(y_train[i] == 1)[0]) for i in range(len(y_train))])\n",
    "y_test = np.array([int(np.where(y_test[i] == 1)[0]) for i in range(len(y_test))])\n",
    "# visualize and check data and label.\n",
    "classes=('0', '1', '2', '3', '4', '5', '6', '7', '8', '9')\n",
    "index = 30\n",
    "print(X_train[0].shape)\n",
    "plt.imshow(X_train[index].reshape(28,28))\n",
    "print(classes[y_train[index]])"
   ]
  },
  {
   "cell_type": "code",
   "execution_count": 7,
   "metadata": {
    "colab": {
     "base_uri": "https://localhost:8080/"
    },
    "id": "3eNiuY3x33mh",
    "outputId": "4b5c0a34-e64e-416a-df24-af6abd8688d0"
   },
   "outputs": [
    {
     "name": "stdout",
     "output_type": "stream",
     "text": [
      "Counter({1: 6742, 7: 6265, 3: 6131, 2: 5958, 9: 5949, 0: 5923, 6: 5918, 8: 5851, 4: 5842, 5: 5421})\n",
      "Counter({1: 1135, 2: 1032, 7: 1028, 3: 1010, 9: 1009, 4: 982, 0: 980, 8: 974, 6: 958, 5: 892})\n"
     ]
    }
   ],
   "source": [
    "# count number of each class -> check data balance.\n",
    "train_count = collections.Counter(y_train)\n",
    "print(train_count)\n",
    "test_count = collections.Counter(y_test)\n",
    "print(test_count)"
   ]
  },
  {
   "cell_type": "code",
   "execution_count": 8,
   "metadata": {
    "colab": {
     "base_uri": "https://localhost:8080/"
    },
    "id": "zT54wtxtO13-",
    "outputId": "d2b46d5f-6417-4d0b-de4e-077d3106589e"
   },
   "outputs": [
    {
     "name": "stdout",
     "output_type": "stream",
     "text": [
      "sampled from class 0 : 5923\n",
      "sampled from class 1 : 6742\n",
      "sampled from class 2 : 5958\n",
      "sampled from class 3 : 6131\n",
      "sampled from class 4 : 5842\n",
      "sampled from class 5 : 5421\n",
      "sampled from class 6 : 5918\n",
      "sampled from class 7 : 6265\n",
      "sampled from class 8 : 5851\n",
      "sampled from class 9 : 5949\n",
      "sampled from class 0 : 980\n",
      "sampled from class 1 : 1135\n",
      "sampled from class 2 : 1032\n",
      "sampled from class 3 : 1010\n",
      "sampled from class 4 : 982\n",
      "sampled from class 5 : 892\n",
      "sampled from class 6 : 958\n",
      "sampled from class 7 : 1028\n",
      "sampled from class 8 : 974\n",
      "sampled from class 9 : 1009\n",
      "6000 6000\n",
      "1000 1000\n"
     ]
    }
   ],
   "source": [
    "#make this reproducible with seed fixed\n",
    "np.random.seed(42)\n",
    "\n",
    "#subsampling each class\n",
    "subset_X_train = []\n",
    "subset_y_train = []\n",
    "subset_per_each_train = 600\n",
    "for i in range(len(classes)):\n",
    "    _class_idx = np.where(y_train == i)[0]\n",
    "    print('sampled from class {} : {}'.format(i, len(_class_idx)))\n",
    "    np.random.shuffle(_class_idx)\n",
    "    subset_X_train.extend(X_train[_class_idx[:subset_per_each_train]])\n",
    "    subset_y_train.extend(y_train[_class_idx[:subset_per_each_train]])\n",
    "\n",
    "subset_X_test = []\n",
    "subset_y_test = []\n",
    "subset_per_each_test = 100\n",
    "for i in range(len(classes)):\n",
    "    _class_idx = np.where(y_test == i)[0]\n",
    "    print('sampled from class {} : {}'.format(i, len(_class_idx)))\n",
    "    np.random.shuffle(_class_idx)\n",
    "    subset_X_test.extend(X_test[_class_idx[:subset_per_each_test]])\n",
    "    subset_y_test.extend(y_test[_class_idx[:subset_per_each_test]])\n",
    "\n",
    "print(len(subset_X_train), len(subset_y_train))\n",
    "print(len(subset_X_test), len(subset_y_test))\n",
    "\n",
    "scaler = StandardScaler()\n",
    "subset_X_train = scaler.fit_transform(np.array(subset_X_train))\n",
    "subset_y_train = np.array(subset_y_train)\n",
    "subset_X_test = scaler.fit_transform(np.array(subset_X_test))\n",
    "subset_y_test = np.array(subset_y_test)\n",
    "\n",
    "#print(subset_X_train[0][:10]) for check reproducibility"
   ]
  },
  {
   "cell_type": "code",
   "execution_count": 9,
   "metadata": {
    "id": "lQ49A62dhCKU"
   },
   "outputs": [],
   "source": [
    "clf = DecisionTreeClassifier(random_state=42)\n",
    "path = clf.cost_complexity_pruning_path(subset_X_train, subset_y_train)\n",
    "ccp_alphas, impurities = path.ccp_alphas, path.impurities"
   ]
  },
  {
   "cell_type": "code",
   "execution_count": 10,
   "metadata": {
    "colab": {
     "base_uri": "https://localhost:8080/",
     "height": 312
    },
    "id": "xrkX5_8_hGKp",
    "outputId": "52d493cd-cf62-41d1-b804-5f32ff0fbe3d"
   },
   "outputs": [
    {
     "name": "stdout",
     "output_type": "stream",
     "text": [
      "0.026323857734690814\n"
     ]
    },
    {
     "data": {
      "image/png": "[encoded data removed]",
      "text/plain": [
       "<Figure size 432x288 with 1 Axes>"
      ]
     },
     "metadata": {
      "needs_background": "light"
     },
     "output_type": "display_data"
    }
   ],
   "source": [
    "fig, ax = plt.subplots()\n",
    "ax.plot(ccp_alphas[:-1], impurities[:-1], marker='o', drawstyle=\"steps-post\")\n",
    "ax.set_xlabel(\"effective alpha\")\n",
    "ax.set_ylabel(\"total impurity of leaves\")\n",
    "ax.set_title(\"Total Impurity vs effective alpha for training set\")\n",
    "print(ccp_alphas[-1])"
   ]
  },
  {
   "cell_type": "code",
   "execution_count": 11,
   "metadata": {},
   "outputs": [
    {
     "name": "stdout",
     "output_type": "stream",
     "text": [
      "1089\n",
      "[0.         0.00016588 0.00016617 0.00016667 0.00016667 0.00016667\n",
      " 0.00016667 0.00016667 0.00016667 0.00016667]\n",
      "[0.0, 0.0002, 0.0002, 0.0002, 0.0002, 0.0002, 0.0002, 0.0002, 0.0002, 0.0002]\n",
      "51\n"
     ]
    }
   ],
   "source": [
    "print(len(ccp_alphas))\n",
    "ccp_alpha_round = [np.around(num, 4) for num in ccp_alphas]\n",
    "print(ccp_alphas[:10])\n",
    "print(ccp_alpha_round[:10])\n",
    "\n",
    "ccp_alpha_list=[]\n",
    "[ccp_alpha_list.append(x) for x in ccp_alpha_round if x not in ccp_alpha_list]\n",
    "print(len(ccp_alpha_list))"
   ]
  },
  {
   "cell_type": "code",
   "execution_count": 12,
   "metadata": {
    "colab": {
     "base_uri": "https://localhost:8080/"
    },
    "id": "v3DFPD_kvWoL",
    "outputId": "51fcd402-8ba4-440c-c876-5d67a517b70d"
   },
   "outputs": [
    {
     "name": "stdout",
     "output_type": "stream",
     "text": [
      "Number of nodes in the last tree is: 17 with ccp_alpha: 0.026323857734690814\n"
     ]
    }
   ],
   "source": [
    "clfs = []\n",
    "for ccp_alpha in ccp_alpha_list:\n",
    "    clf = DecisionTreeClassifier(random_state=42, ccp_alpha=ccp_alpha, max_features=\"sqrt\", criterion=\"entropy\", max_depth=12)\n",
    "    clf.fit(subset_X_train, subset_y_train)\n",
    "    clfs.append(clf)\n",
    "print(\"Number of nodes in the last tree is: {} with ccp_alpha: {}\".format(\n",
    "      clfs[-1].tree_.node_count, ccp_alphas[-1]))"
   ]
  },
  {
   "cell_type": "code",
   "execution_count": 13,
   "metadata": {
    "colab": {
     "base_uri": "https://localhost:8080/",
     "height": 296
    },
    "id": "42LUIImrts4h",
    "outputId": "86a51811-aac9-4cdb-ddb8-eead89ee44d1"
   },
   "outputs": [
    {
     "data": {
      "image/png": "[encoded data removed]",
      "text/plain": [
       "<Figure size 432x288 with 2 Axes>"
      ]
     },
     "metadata": {
      "needs_background": "light"
     },
     "output_type": "display_data"
    }
   ],
   "source": [
    "clfs = clfs[:-1]\n",
    "ccp_alphas = ccp_alpha_list[:-1]\n",
    "\n",
    "node_counts = [clf.tree_.node_count for clf in clfs]\n",
    "depth = [clf.tree_.max_depth for clf in clfs]\n",
    "fig, ax = plt.subplots(2, 1)\n",
    "ax[0].plot(ccp_alphas, node_counts, marker='o', drawstyle=\"steps-post\")\n",
    "ax[0].set_xlabel(\"alpha\")\n",
    "ax[0].set_ylabel(\"number of nodes\")\n",
    "ax[0].set_title(\"Number of nodes vs alpha\")\n",
    "ax[0].set_ylim([0, 3000])\n",
    "ax[1].plot(ccp_alphas, depth, marker='o', drawstyle=\"steps-post\")\n",
    "ax[1].set_xlabel(\"alpha\")\n",
    "ax[1].set_ylabel(\"depth of tree\")\n",
    "ax[1].set_title(\"Depth vs alpha\")\n",
    "fig.tight_layout()\n"
   ]
  },
  {
   "cell_type": "code",
   "execution_count": 14,
   "metadata": {},
   "outputs": [
    {
     "data": {
      "image/png": "[encoded data removed]",
      "text/plain": [
       "<Figure size 432x288 with 1 Axes>"
      ]
     },
     "metadata": {
      "needs_background": "light"
     },
     "output_type": "display_data"
    }
   ],
   "source": [
    "train_scores = [clf.score(subset_X_train, subset_y_train) for clf in clfs]\n",
    "test_scores = [clf.score(subset_X_test, subset_y_test) for clf in clfs]\n",
    "\n",
    "fig, ax = plt.subplots()\n",
    "ax.set_xlabel(\"alpha\")\n",
    "ax.set_ylabel(\"accuracy\")\n",
    "ax.set_ylim(0.0, 1.0)\n",
    "ax.set_title(\"Accuracy vs alpha for training and testing sets\")\n",
    "ax.plot(ccp_alphas, train_scores, marker='o', label=\"train\",\n",
    "        drawstyle=\"steps-post\")\n",
    "ax.plot(ccp_alphas, test_scores, marker='o', label=\"test\",\n",
    "        drawstyle=\"steps-post\")\n",
    "ax.legend()\n",
    "plt.show()"
   ]
  },
  {
   "cell_type": "code",
   "execution_count": 15,
   "metadata": {},
   "outputs": [
    {
     "name": "stdout",
     "output_type": "stream",
     "text": [
      "original number of nodes and depth 0.0 2697 12\n",
      "pruned number of nodes and depth 0.0073 101 8\n",
      "pruned number of nodes and depth 0.0076 101 8\n"
     ]
    }
   ],
   "source": [
    "for a, n, d in zip(ccp_alphas, node_counts, depth):\n",
    "    if (a>= 0.007 and a <=0.0078):\n",
    "        print('pruned number of nodes and depth', a, n, d)\n",
    "    if (a==0):\n",
    "        print('original number of nodes and depth', a, n, d)"
   ]
  },
  {
   "cell_type": "code",
   "execution_count": 16,
   "metadata": {},
   "outputs": [
    {
     "name": "stdout",
     "output_type": "stream",
     "text": [
      "Test Accuracy of best model: 0.426\n"
     ]
    }
   ],
   "source": [
    "p_clf = DecisionTreeClassifier(random_state=42,\n",
    "                               max_features=\"sqrt\", criterion=\"entropy\", \n",
    "                               max_depth=10, ccp_alpha=0.0076)\n",
    "p_clf.fit(subset_X_train, subset_y_train)\n",
    "subset_y_test_pred = p_clf.predict(subset_X_test)\n",
    "test_acc = metrics.accuracy_score(subset_y_test, subset_y_test_pred)\n",
    "print('Test Accuracy of best model: {}'.format(test_acc))"
   ]
  },
  {
   "cell_type": "code",
   "execution_count": 17,
   "metadata": {},
   "outputs": [
    {
     "name": "stdout",
     "output_type": "stream",
     "text": [
      "Fitting 10 folds for each of 25 candidates, totalling 250 fits\n"
     ]
    },
    {
     "data": {
      "text/plain": [
       "GridSearchCV(cv=10, estimator=DecisionTreeClassifier(random_state=42),\n",
       "             n_jobs=-1,\n",
       "             param_grid={'ccp_alpha': [0.001, 0.002, 0.003, 0.004, 0.005],\n",
       "                         'criterion': ['entropy'],\n",
       "                         'max_depth': [4, 6, 8, 10, 12],\n",
       "                         'max_features': ['sqrt']},\n",
       "             verbose=2)"
      ]
     },
     "execution_count": 17,
     "metadata": {},
     "output_type": "execute_result"
    }
   ],
   "source": [
    "parameters = {'criterion':['entropy'], 'max_features':['sqrt'], 'max_depth':[4, 6, 8, 10, 12], 'ccp_alpha':[0.001, 0.002, 0.003, 0.004 ,0.005]}\n",
    "clf = DecisionTreeClassifier(random_state=42)\n",
    "clf_GS = GridSearchCV(clf, parameters, verbose=2, cv=10, n_jobs=-1)\n",
    "clf_GS.fit(subset_X_train, subset_y_train)\n"
   ]
  },
  {
   "cell_type": "code",
   "execution_count": 18,
   "metadata": {},
   "outputs": [
    {
     "name": "stdout",
     "output_type": "stream",
     "text": [
      "{'ccp_alpha': 0.003, 'criterion': 'entropy', 'max_depth': 10, 'max_features': 'sqrt'}\n"
     ]
    }
   ],
   "source": [
    "print(clf_GS.best_params_)"
   ]
  },
  {
   "cell_type": "code",
   "execution_count": 19,
   "metadata": {},
   "outputs": [
    {
     "name": "stdout",
     "output_type": "stream",
     "text": [
      "359\n",
      "10\n"
     ]
    }
   ],
   "source": [
    "print(clf_GS.best_estimator_.tree_.node_count)\n",
    "print(clf_GS.best_estimator_.tree_.max_depth)"
   ]
  },
  {
   "cell_type": "code",
   "execution_count": 20,
   "metadata": {},
   "outputs": [
    {
     "name": "stdout",
     "output_type": "stream",
     "text": [
      "Test Accuracy of best model: 0.455\n"
     ]
    }
   ],
   "source": [
    "subset_y_test_pred = clf_GS.best_estimator_.predict(subset_X_test)\n",
    "test_acc = metrics.accuracy_score(subset_y_test, subset_y_test_pred)\n",
    "print('Test Accuracy of best model: {}'.format(test_acc))"
   ]
  },
  {
   "cell_type": "code",
   "execution_count": 21,
   "metadata": {
    "colab": {
     "base_uri": "https://localhost:8080/"
    },
    "id": "lEw1_aF1LOiq",
    "outputId": "45a6d08b-e2fc-4d15-e1da-e9c5adc8a5c8"
   },
   "outputs": [
    {
     "name": "stdout",
     "output_type": "stream",
     "text": [
      "sampled from class 0 : 5923\n",
      "sampled from class 1 : 6742\n",
      "sampled from class 2 : 5958\n",
      "sampled from class 3 : 6131\n",
      "sampled from class 4 : 5842\n",
      "sampled from class 5 : 5421\n",
      "sampled from class 6 : 5918\n",
      "sampled from class 7 : 6265\n",
      "sampled from class 8 : 5851\n",
      "sampled from class 9 : 5949\n",
      "6000 6000\n",
      "1000 1000\n"
     ]
    }
   ],
   "source": [
    "#for learning rate analysis change subset_per_each_train as 100, 200, 300, 400, 500, 600\n",
    "\n",
    "#make this reproducible with seed fixed\n",
    "np.random.seed(42)\n",
    "\n",
    "#subsampling each class\n",
    "subset_X_train = []\n",
    "subset_y_train = []\n",
    "subset_per_each_train = 600\n",
    "for i in range(len(classes)):\n",
    "    _class_idx = np.where(y_train == i)[0]\n",
    "    print('sampled from class {} : {}'.format(i, len(_class_idx)))\n",
    "    np.random.shuffle(_class_idx)\n",
    "    subset_X_train.extend(X_train[_class_idx[:subset_per_each_train]])\n",
    "    subset_y_train.extend(y_train[_class_idx[:subset_per_each_train]])\n",
    "\n",
    "print(len(subset_X_train), len(subset_y_train))\n",
    "print(len(subset_X_test), len(subset_y_test))\n",
    "\n",
    "scaler = StandardScaler()\n",
    "subset_X_train = scaler.fit_transform(np.array(subset_X_train))\n",
    "subset_y_train = np.array(subset_y_train)"
   ]
  },
  {
   "cell_type": "code",
   "execution_count": 22,
   "metadata": {
    "colab": {
     "base_uri": "https://localhost:8080/"
    },
    "id": "oDh61BcuLU5A",
    "outputId": "a41f4f2f-f72b-4013-f595-9439a5da2f95"
   },
   "outputs": [
    {
     "name": "stdout",
     "output_type": "stream",
     "text": [
      "Train score 0.5762 Test Accuracy of best model: 0.455\n"
     ]
    }
   ],
   "source": [
    "l_clf = DecisionTreeClassifier(criterion='entropy', max_depth=10, max_features='sqrt', ccp_alpha=0.003, random_state=42)\n",
    "l_clf.fit(subset_X_train, subset_y_train)\n",
    "subset_y_test_pred = l_clf.predict(subset_X_test)\n",
    "train_score = l_clf.score(subset_X_train, subset_y_train)\n",
    "test_acc = metrics.accuracy_score(subset_y_test, subset_y_test_pred)\n",
    "print('Train score {:.4f} Test Accuracy of best model: {}'.format(train_score, test_acc))"
   ]
  },
  {
   "cell_type": "code",
   "execution_count": 23,
   "metadata": {
    "colab": {
     "base_uri": "https://localhost:8080/"
    },
    "id": "nOuLpVe4Q9_r",
    "outputId": "99d50c21-7362-4273-ef2f-e0abb7006032"
   },
   "outputs": [
    {
     "name": "stdout",
     "output_type": "stream",
     "text": [
      "[0.401, 0.35483333333333333, 0.28633333333333333, 0.25816666666666666, 0.24783333333333332, 0.23333333333333334, 0.19816666666666666, 0.19816666666666666, 0.15566666666666668, 0.15566666666666668, 0.15566666666666668, 0.15566666666666668, 0.15566666666666668, 0.15566666666666668, 0.1, 0.1, 0.1, 0.1, 0.1, 0.1]\n",
      "[0.35, 0.329, 0.272, 0.246, 0.238, 0.222, 0.186, 0.186, 0.146, 0.146, 0.146, 0.146, 0.146, 0.146, 0.1, 0.1, 0.1, 0.1, 0.1, 0.1]\n"
     ]
    }
   ],
   "source": [
    "train_score_list=[]\n",
    "test_acc_list=[]\n",
    "for a in np.arange(0.01, 0.21, 0.01):\n",
    "    l_clf = DecisionTreeClassifier(criterion='entropy', max_depth=12, max_features='sqrt', ccp_alpha=a, random_state=42)\n",
    "    l_clf.fit(subset_X_train, subset_y_train)\n",
    "    subset_y_test_pred = l_clf.predict(subset_X_test)\n",
    "    train_score = l_clf.score(subset_X_train, subset_y_train)\n",
    "    test_acc = metrics.accuracy_score(subset_y_test, subset_y_test_pred)\n",
    "    train_score_list.append(train_score)\n",
    "    test_acc_list.append(test_acc)\n",
    "print(train_score_list)\n",
    "print(test_acc_list)"
   ]
  },
  {
   "cell_type": "code",
   "execution_count": 24,
   "metadata": {},
   "outputs": [
    {
     "name": "stdout",
     "output_type": "stream",
     "text": [
      "Train time 0.3185 Test time 0.0019\n"
     ]
    }
   ],
   "source": [
    "#performance\n",
    "import time\n",
    "t1 = time.time()\n",
    "l_clf = DecisionTreeClassifier(criterion='entropy', max_depth=10, max_features='sqrt', ccp_alpha=0.003, random_state=42)\n",
    "l_clf.fit(subset_X_train, subset_y_train)\n",
    "end_t1 = time.time()\n",
    "train_score = l_clf.score(subset_X_train, subset_y_train)\n",
    "t2 = time.time()\n",
    "subset_y_test_pred = l_clf.predict(subset_X_test)\n",
    "#test_acc = metrics.accuracy_score(subset_y_test, subset_y_test_pred)\n",
    "end_t2 = time.time()\n",
    "print('Train time {:.4f} Test time {:.4f}'.format((end_t1 - t1), (end_t2 - t2)))"
   ]
  }
 ],
 "metadata": {
  "colab": {
   "collapsed_sections": [],
   "name": "n_MNIST_Decision_Tree_P.ipynb",
   "provenance": []
  },
  "kernelspec": {
   "display_name": "Python 3",
   "language": "python",
   "name": "python3"
  },
  "language_info": {
   "codemirror_mode": {
    "name": "ipython",
    "version": 3
   },
   "file_extension": ".py",
   "mimetype": "text/x-python",
   "name": "python",
   "nbconvert_exporter": "python",
   "pygments_lexer": "ipython3",
   "version": "3.7.4"
  }
 },
 "nbformat": 4,
 "nbformat_minor": 1
}
