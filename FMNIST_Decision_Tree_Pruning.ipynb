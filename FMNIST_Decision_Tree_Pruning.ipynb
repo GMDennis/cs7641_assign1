{
 "cells": [
  {
   "cell_type": "code",
   "execution_count": 1,
   "metadata": {
    "id": "ecDYCofc3bXy"
   },
   "outputs": [],
   "source": [
    "import numpy as np\n",
    "import pandas as pd\n",
    "from PIL import Image, ImageOps\n",
    "import os, copy, random\n",
    "import matplotlib.pyplot as plt\n",
    "import collections\n",
    "from sklearn.model_selection import GridSearchCV\n",
    "from sklearn.model_selection import StratifiedKFold\n",
    "from sklearn.preprocessing import StandardScaler\n",
    "from sklearn.tree import DecisionTreeClassifier\n",
    "from sklearn import metrics\n",
    "\n",
    "#Reference : https://github.com/zalandoresearch/fashion-mnist utils/mnist_reader.\n",
    "def load_mnist(path, kind='train'):\n",
    "    import os\n",
    "    import gzip\n",
    "    import numpy as np\n",
    "\n",
    "    \"\"\"Load MNIST data from `path`\"\"\"\n",
    "    labels_path = os.path.join(path,\n",
    "                               '%s-labels-idx1-ubyte.gz'\n",
    "                               % kind)\n",
    "    images_path = os.path.join(path,\n",
    "                               '%s-images-idx3-ubyte.gz'\n",
    "                               % kind)\n",
    "\n",
    "    with gzip.open(labels_path, 'rb') as lbpath:\n",
    "        labels = np.frombuffer(lbpath.read(), dtype=np.uint8,\n",
    "                               offset=8)\n",
    "\n",
    "    with gzip.open(images_path, 'rb') as imgpath:\n",
    "        images = np.frombuffer(imgpath.read(), dtype=np.uint8,\n",
    "                               offset=16).reshape(len(labels), 784)\n",
    "\n",
    "    return images, labels"
   ]
  },
  {
   "cell_type": "code",
   "execution_count": 2,
   "metadata": {
    "colab": {
     "base_uri": "https://localhost:8080/",
     "height": 282
    },
    "id": "58evoKpt3xqV",
    "outputId": "79a02022-cdb1-42c0-a9a6-0896f3a8fe59"
   },
   "outputs": [
    {
     "name": "stdout",
     "output_type": "stream",
     "text": [
      "Sandal\n"
     ]
    },
    {
     "data": {
      "image/png": "[encoded data removed]",
      "text/plain": [
       "<Figure size 432x288 with 1 Axes>"
      ]
     },
     "metadata": {
      "needs_background": "light"
     },
     "output_type": "display_data"
    }
   ],
   "source": [
    "classes=('T-shirt/top', 'Trouser', 'Pullover', 'Dress', 'Coat',\n",
    "        'Sandal', 'Shirt', 'Sneaker', 'Bag', 'Ankle boot')\n",
    "X_train, y_train = load_mnist('./dataset/fashion_mnist/', kind='train')\n",
    "X_test, y_test = load_mnist('./dataset/fashion_mnist/', kind='t10k')\n",
    "# visualize and check data and label.\n",
    "index = 12\n",
    "plt.imshow(X_train[index].reshape(28,28))\n",
    "print(classes[y_train[index]])"
   ]
  },
  {
   "cell_type": "code",
   "execution_count": 3,
   "metadata": {
    "colab": {
     "base_uri": "https://localhost:8080/"
    },
    "id": "3eNiuY3x33mh",
    "outputId": "e2832c28-0e98-4620-dfd0-28529762ebdc"
   },
   "outputs": [
    {
     "name": "stdout",
     "output_type": "stream",
     "text": [
      "Counter({9: 6000, 0: 6000, 3: 6000, 2: 6000, 7: 6000, 5: 6000, 1: 6000, 6: 6000, 4: 6000, 8: 6000})\n",
      "Counter({9: 1000, 2: 1000, 1: 1000, 6: 1000, 4: 1000, 5: 1000, 7: 1000, 3: 1000, 8: 1000, 0: 1000})\n"
     ]
    }
   ],
   "source": [
    "# count number of each class -> check data balance.\n",
    "train_count = collections.Counter(y_train)\n",
    "print(train_count)\n",
    "test_count = collections.Counter(y_test)\n",
    "print(test_count)"
   ]
  },
  {
   "cell_type": "code",
   "execution_count": 4,
   "metadata": {
    "colab": {
     "base_uri": "https://localhost:8080/"
    },
    "id": "zT54wtxtO13-",
    "outputId": "6ccf406d-2170-40e7-de52-4e23f955eb0d"
   },
   "outputs": [
    {
     "name": "stdout",
     "output_type": "stream",
     "text": [
      "sampled from class 0 : 6000\n",
      "sampled from class 1 : 6000\n",
      "sampled from class 2 : 6000\n",
      "sampled from class 3 : 6000\n",
      "sampled from class 4 : 6000\n",
      "sampled from class 5 : 6000\n",
      "sampled from class 6 : 6000\n",
      "sampled from class 7 : 6000\n",
      "sampled from class 8 : 6000\n",
      "sampled from class 9 : 6000\n",
      "sampled from class 0 : 1000\n",
      "sampled from class 1 : 1000\n",
      "sampled from class 2 : 1000\n",
      "sampled from class 3 : 1000\n",
      "sampled from class 4 : 1000\n",
      "sampled from class 5 : 1000\n",
      "sampled from class 6 : 1000\n",
      "sampled from class 7 : 1000\n",
      "sampled from class 8 : 1000\n",
      "sampled from class 9 : 1000\n",
      "6000 6000\n",
      "1000 1000\n"
     ]
    }
   ],
   "source": [
    "#make this reproducible with seed fixed\n",
    "np.random.seed(42)\n",
    "\n",
    "#subsampling each class\n",
    "subset_X_train = []\n",
    "subset_y_train = []\n",
    "subset_per_each_train = 600\n",
    "for i in range(len(classes)):\n",
    "    _class_idx = np.where(y_train == i)[0]\n",
    "    print('sampled from class {} : {}'.format(i, len(_class_idx)))\n",
    "    np.random.shuffle(_class_idx)\n",
    "    subset_X_train.extend(X_train[_class_idx[:subset_per_each_train]])\n",
    "    subset_y_train.extend(y_train[_class_idx[:subset_per_each_train]])\n",
    "\n",
    "subset_X_test = []\n",
    "subset_y_test = []\n",
    "subset_per_each_test = 100\n",
    "for i in range(len(classes)):\n",
    "    _class_idx = np.where(y_test == i)[0]\n",
    "    print('sampled from class {} : {}'.format(i, len(_class_idx)))\n",
    "    np.random.shuffle(_class_idx)\n",
    "    subset_X_test.extend(X_test[_class_idx[:subset_per_each_test]])\n",
    "    subset_y_test.extend(y_test[_class_idx[:subset_per_each_test]])\n",
    "\n",
    "print(len(subset_X_train), len(subset_y_train))\n",
    "print(len(subset_X_test), len(subset_y_test))\n",
    "\n",
    "scaler = StandardScaler()\n",
    "subset_X_train = scaler.fit_transform(np.array(subset_X_train))\n",
    "subset_y_train = np.array(subset_y_train)\n",
    "subset_X_test = scaler.fit_transform(np.array(subset_X_test))\n",
    "subset_y_test = np.array(subset_y_test)\n"
   ]
  },
  {
   "cell_type": "code",
   "execution_count": 5,
   "metadata": {
    "id": "KS4nREzifNK8"
   },
   "outputs": [],
   "source": [
    "clf = DecisionTreeClassifier(random_state=42)\n",
    "path = clf.cost_complexity_pruning_path(subset_X_train, subset_y_train)\n",
    "ccp_alphas, impurities = path.ccp_alphas, path.impurities"
   ]
  },
  {
   "cell_type": "code",
   "execution_count": 6,
   "metadata": {
    "colab": {
     "base_uri": "https://localhost:8080/",
     "height": 312
    },
    "id": "9UVXksemfZRF",
    "outputId": "fd2fc541-7342-4ae0-c6d3-0e23a2b1906b"
   },
   "outputs": [
    {
     "data": {
      "text/plain": [
       "Text(0.5, 1.0, 'Total Impurity vs effective alpha for training set')"
      ]
     },
     "execution_count": 6,
     "metadata": {},
     "output_type": "execute_result"
    },
    {
     "data": {
      "image/png": "[encoded data removed]",
      "text/plain": [
       "<Figure size 432x288 with 1 Axes>"
      ]
     },
     "metadata": {
      "needs_background": "light"
     },
     "output_type": "display_data"
    }
   ],
   "source": [
    "fig, ax = plt.subplots()\n",
    "ax.plot(ccp_alphas[:-1], impurities[:-1], marker='o', drawstyle=\"steps-post\")\n",
    "ax.set_xlabel(\"effective alpha\")\n",
    "ax.set_ylabel(\"total impurity of leaves\")\n",
    "ax.set_title(\"Total Impurity vs effective alpha for training set\")"
   ]
  },
  {
   "cell_type": "code",
   "execution_count": 11,
   "metadata": {},
   "outputs": [
    {
     "name": "stdout",
     "output_type": "stream",
     "text": [
      "511\n",
      "[0.         0.00016289 0.00016304 0.00016374 0.00016429 0.0001645\n",
      " 0.00016505 0.00016546 0.00016563 0.00016583]\n",
      "[0.0, 0.0002, 0.0002, 0.0002, 0.0002, 0.0002, 0.0002, 0.0002, 0.0002, 0.0002]\n",
      "53\n"
     ]
    }
   ],
   "source": [
    "print(len(ccp_alphas))\n",
    "ccp_alpha_round = [np.around(num, 4) for num in ccp_alphas]\n",
    "print(ccp_alphas[:10])\n",
    "print(ccp_alpha_round[:10])\n",
    "\n",
    "ccp_alpha_list=[]\n",
    "[ccp_alpha_list.append(x) for x in ccp_alpha_round if x not in ccp_alpha_list]\n",
    "print(len(ccp_alpha_list))"
   ]
  },
  {
   "cell_type": "code",
   "execution_count": 30,
   "metadata": {
    "colab": {
     "base_uri": "https://localhost:8080/"
    },
    "id": "CeVMTbUOuN4N",
    "outputId": "83404eda-e69d-4cd1-e3c7-4c1b328e8eda"
   },
   "outputs": [
    {
     "name": "stdout",
     "output_type": "stream",
     "text": [
      "Number of nodes in the last tree is: 15 with ccp_alpha: 0.0529\n"
     ]
    }
   ],
   "source": [
    "clfs = []\n",
    "for ccp_alpha in ccp_alpha_list:\n",
    "    clf = DecisionTreeClassifier(random_state=42, ccp_alpha=ccp_alpha, max_features=\"sqrt\", criterion=\"entropy\", max_depth=12)\n",
    "    clf.fit(subset_X_train, subset_y_train)\n",
    "    clfs.append(clf)\n",
    "print(\"Number of nodes in the last tree is: {} with ccp_alpha: {}\".format(\n",
    "      clfs[-1].tree_.node_count, ccp_alphas[-1]))"
   ]
  },
  {
   "cell_type": "code",
   "execution_count": 31,
   "metadata": {
    "colab": {
     "base_uri": "https://localhost:8080/",
     "height": 296
    },
    "id": "YigU0JszfjrY",
    "outputId": "1a1eab9a-503b-43c0-915d-6d840e565c0f"
   },
   "outputs": [
    {
     "data": {
      "image/png": "[encoded data removed]",
      "text/plain": [
       "<Figure size 432x288 with 2 Axes>"
      ]
     },
     "metadata": {
      "needs_background": "light"
     },
     "output_type": "display_data"
    }
   ],
   "source": [
    "clfs = clfs[:-1]\n",
    "ccp_alphas = ccp_alpha_list[:-1]\n",
    "\n",
    "node_counts = [clf.tree_.node_count for clf in clfs]\n",
    "depth = [clf.tree_.max_depth for clf in clfs]\n",
    "fig, ax = plt.subplots(2, 1)\n",
    "ax[0].plot(ccp_alphas, node_counts, marker='o', drawstyle=\"steps-post\")\n",
    "ax[0].set_xlabel(\"alpha\")\n",
    "ax[0].set_ylabel(\"number of nodes\")\n",
    "ax[0].set_ylim([0, 3000])\n",
    "ax[0].set_title(\"Number of nodes vs alpha\")\n",
    "ax[1].plot(ccp_alphas, depth, marker='o', drawstyle=\"steps-post\")\n",
    "ax[1].set_xlabel(\"alpha\")\n",
    "ax[1].set_ylabel(\"depth of tree\")\n",
    "ax[1].set_title(\"Depth vs alpha\")\n",
    "fig.tight_layout()"
   ]
  },
  {
   "cell_type": "code",
   "execution_count": 32,
   "metadata": {},
   "outputs": [
    {
     "data": {
      "image/png": "[encoded data removed]",
      "text/plain": [
       "<Figure size 432x288 with 1 Axes>"
      ]
     },
     "metadata": {
      "needs_background": "light"
     },
     "output_type": "display_data"
    }
   ],
   "source": [
    "train_scores = [clf.score(subset_X_train, subset_y_train) for clf in clfs]\n",
    "test_scores = [clf.score(subset_X_test, subset_y_test) for clf in clfs]\n",
    "\n",
    "fig, ax = plt.subplots()\n",
    "ax.set_xlabel(\"alpha\")\n",
    "ax.set_ylabel(\"accuracy\")\n",
    "ax.set_ylim(0.0, 1.0)\n",
    "ax.set_title(\"Accuracy vs alpha for training and testing sets\")\n",
    "ax.plot(ccp_alphas, train_scores, marker='o', label=\"train\",\n",
    "        drawstyle=\"steps-post\")\n",
    "ax.plot(ccp_alphas, test_scores, marker='o', label=\"test\",\n",
    "        drawstyle=\"steps-post\")\n",
    "ax.legend()\n",
    "plt.show()"
   ]
  },
  {
   "cell_type": "code",
   "execution_count": 34,
   "metadata": {},
   "outputs": [
    {
     "name": "stdout",
     "output_type": "stream",
     "text": [
      "original number of nodes and depth 0.0 1189 12\n",
      "pruned number of nodes and depth 0.001 705 12\n",
      "pruned number of nodes and depth 0.0011 643 12\n",
      "pruned number of nodes and depth 0.0012 591 12\n",
      "pruned number of nodes and depth 0.0013 559 12\n",
      "pruned number of nodes and depth 0.0014 513 12\n",
      "pruned number of nodes and depth 0.0015 491 12\n",
      "pruned number of nodes and depth 0.0016 461 12\n",
      "pruned number of nodes and depth 0.0017 417 12\n",
      "pruned number of nodes and depth 0.0019 365 12\n",
      "pruned number of nodes and depth 0.002 349 12\n",
      "pruned number of nodes and depth 0.0021 321 12\n",
      "pruned number of nodes and depth 0.0022 291 12\n",
      "pruned number of nodes and depth 0.0023 287 12\n",
      "pruned number of nodes and depth 0.0024 267 12\n",
      "pruned number of nodes and depth 0.0026 245 12\n",
      "pruned number of nodes and depth 0.0027 233 11\n",
      "pruned number of nodes and depth 0.0028 229 11\n",
      "0.0529\n"
     ]
    }
   ],
   "source": [
    "for a, n, d in zip(ccp_alphas, node_counts,depth):\n",
    "    if (a>= 0.001 and a <=0.003):\n",
    "        print('pruned number of nodes and depth', a, n, d)\n",
    "    if (a==0):\n",
    "        print('original number of nodes and depth', a, n, d)\n",
    "        \n",
    "print(ccp_alphas[-1])"
   ]
  },
  {
   "cell_type": "code",
   "execution_count": 20,
   "metadata": {},
   "outputs": [
    {
     "name": "stdout",
     "output_type": "stream",
     "text": [
      "Fitting 10 folds for each of 25 candidates, totalling 250 fits\n"
     ]
    },
    {
     "data": {
      "text/plain": [
       "GridSearchCV(cv=10, estimator=DecisionTreeClassifier(random_state=42),\n",
       "             n_jobs=-1,\n",
       "             param_grid={'ccp_alpha': [0.002, 0.004, 0.006, 0.008, 0.01],\n",
       "                         'criterion': ['entropy'],\n",
       "                         'max_depth': [4, 6, 8, 10, 12],\n",
       "                         'max_features': ['sqrt']},\n",
       "             verbose=2)"
      ]
     },
     "execution_count": 20,
     "metadata": {},
     "output_type": "execute_result"
    }
   ],
   "source": [
    "parameters = {'criterion':['entropy'], 'max_features':['sqrt'], 'max_depth':[4, 6, 8, 10, 12], 'ccp_alpha':[0.002, 0.004, 0.006, 0.008, 0.010]}\n",
    "clf = DecisionTreeClassifier(random_state=42)\n",
    "clf_GS = GridSearchCV(clf, parameters, verbose=2, cv=10, n_jobs=-1)\n",
    "clf_GS.fit(subset_X_train, subset_y_train)\n"
   ]
  },
  {
   "cell_type": "code",
   "execution_count": 21,
   "metadata": {},
   "outputs": [
    {
     "name": "stdout",
     "output_type": "stream",
     "text": [
      "{'ccp_alpha': 0.002, 'criterion': 'entropy', 'max_depth': 10, 'max_features': 'sqrt'}\n"
     ]
    }
   ],
   "source": [
    "print(clf_GS.best_params_)"
   ]
  },
  {
   "cell_type": "code",
   "execution_count": 38,
   "metadata": {},
   "outputs": [
    {
     "name": "stdout",
     "output_type": "stream",
     "text": [
      "285\n",
      "10\n"
     ]
    }
   ],
   "source": [
    "print(clf_GS.best_estimator_.tree_.node_count)\n",
    "print(clf_GS.best_estimator_.tree_.max_depth)"
   ]
  },
  {
   "cell_type": "code",
   "execution_count": 22,
   "metadata": {},
   "outputs": [
    {
     "name": "stdout",
     "output_type": "stream",
     "text": [
      "Test Accuracy of best model: 0.737\n"
     ]
    }
   ],
   "source": [
    "subset_y_test_pred = clf_GS.best_estimator_.predict(subset_X_test)\n",
    "test_acc = metrics.accuracy_score(subset_y_test, subset_y_test_pred)\n",
    "print('Test Accuracy of best model: {}'.format(test_acc))"
   ]
  },
  {
   "cell_type": "code",
   "execution_count": 52,
   "metadata": {
    "colab": {
     "base_uri": "https://localhost:8080/"
    },
    "id": "lfRl5775E-7J",
    "outputId": "85d3b143-398e-4443-a52f-f8da8308dd96"
   },
   "outputs": [
    {
     "name": "stdout",
     "output_type": "stream",
     "text": [
      "sampled from class 0 : 6000\n",
      "sampled from class 1 : 6000\n",
      "sampled from class 2 : 6000\n",
      "sampled from class 3 : 6000\n",
      "sampled from class 4 : 6000\n",
      "sampled from class 5 : 6000\n",
      "sampled from class 6 : 6000\n",
      "sampled from class 7 : 6000\n",
      "sampled from class 8 : 6000\n",
      "sampled from class 9 : 6000\n",
      "6000 6000\n",
      "1000 1000\n"
     ]
    }
   ],
   "source": [
    "#for learning rate analysis change subset_per_each_train as 100, 200, 300, 400, 500, 600\n",
    "\n",
    "#make this reproducible with seed fixed\n",
    "np.random.seed(42)\n",
    "\n",
    "#subsampling each class\n",
    "subset_X_train = []\n",
    "subset_y_train = []\n",
    "subset_per_each_train = 600\n",
    "for i in range(len(classes)):\n",
    "    _class_idx = np.where(y_train == i)[0]\n",
    "    print('sampled from class {} : {}'.format(i, len(_class_idx)))\n",
    "    np.random.shuffle(_class_idx)\n",
    "    subset_X_train.extend(X_train[_class_idx[:subset_per_each_train]])\n",
    "    subset_y_train.extend(y_train[_class_idx[:subset_per_each_train]])\n",
    "\n",
    "print(len(subset_X_train), len(subset_y_train))\n",
    "print(len(subset_X_test), len(subset_y_test))\n",
    "\n",
    "scaler = StandardScaler()\n",
    "subset_X_train = scaler.fit_transform(np.array(subset_X_train))\n",
    "subset_y_train = np.array(subset_y_train)"
   ]
  },
  {
   "cell_type": "code",
   "execution_count": 53,
   "metadata": {
    "colab": {
     "base_uri": "https://localhost:8080/"
    },
    "id": "FBcpVnl_FCtn",
    "outputId": "4131c6ed-df9a-41b6-cc89-ecfdc3574bdb"
   },
   "outputs": [
    {
     "name": "stdout",
     "output_type": "stream",
     "text": [
      "Train score 0.6217 Test Accuracy of best model: 0.595\n"
     ]
    }
   ],
   "source": [
    "l_clf = DecisionTreeClassifier(criterion='entropy', max_depth=10, max_features='sqrt', ccp_alpha=0.002, random_state=42)\n",
    "l_clf.fit(subset_X_train, subset_y_train)\n",
    "subset_y_test_pred = l_clf.predict(subset_X_test)\n",
    "train_score = l_clf.score(subset_X_train, subset_y_train)\n",
    "test_acc = metrics.accuracy_score(subset_y_test, subset_y_test_pred)\n",
    "print('Train score {:.4f} Test Accuracy of best model: {}'.format(train_score, test_acc))"
   ]
  },
  {
   "cell_type": "code",
   "execution_count": null,
   "metadata": {
    "colab": {
     "base_uri": "https://localhost:8080/"
    },
    "id": "gfSC2M-UOWds",
    "outputId": "b941cd53-c65f-4c94-fa03-f22523b48ab8"
   },
   "outputs": [
    {
     "name": "stdout",
     "output_type": "stream",
     "text": [
      "[0.6216666666666667, 0.619, 0.6158333333333333, 0.6158333333333333, 0.6003333333333334, 0.6003333333333334, 0.5305, 0.5305, 0.5305, 0.49066666666666664, 0.4175, 0.38533333333333336, 0.38533333333333336, 0.38533333333333336, 0.38533333333333336, 0.314, 0.314, 0.28583333333333333, 0.28583333333333333, 0.28583333333333333]\n",
      "[0.595, 0.594, 0.597, 0.597, 0.587, 0.587, 0.521, 0.521, 0.521, 0.48, 0.404, 0.374, 0.374, 0.374, 0.374, 0.303, 0.303, 0.282, 0.282, 0.282]\n"
     ]
    }
   ],
   "source": [
    "train_score_list=[]\n",
    "test_acc_list=[]\n",
    "for a in np.arange(0.01, 0.06, 0.01):\n",
    "    l_clf = DecisionTreeClassifier(criterion='entropy', max_depth=10, max_features='sqrt', ccp_alpha=a, random_state=42)\n",
    "    l_clf.fit(subset_X_train, subset_y_train)\n",
    "    subset_y_test_pred = l_clf.predict(subset_X_test)\n",
    "    train_score = l_clf.score(subset_X_train, subset_y_train)\n",
    "    test_acc = metrics.accuracy_score(subset_y_test, subset_y_test_pred)\n",
    "    train_score_list.append(train_score)\n",
    "    test_acc_list.append(test_acc)\n",
    "print(train_score_list)\n",
    "print(test_acc_list)"
   ]
  },
  {
   "cell_type": "code",
   "execution_count": 6,
   "metadata": {},
   "outputs": [
    {
     "name": "stdout",
     "output_type": "stream",
     "text": [
      "Train time 0.1682 Test time 0.0039\n"
     ]
    }
   ],
   "source": [
    "#performance\n",
    "import time\n",
    "t1 = time.time()\n",
    "l_clf = DecisionTreeClassifier(criterion='entropy', max_depth=10, max_features='sqrt', ccp_alpha=0.002, random_state=42)\n",
    "l_clf.fit(subset_X_train, subset_y_train)\n",
    "end_t1 = time.time()\n",
    "train_score = l_clf.score(subset_X_train, subset_y_train)\n",
    "t2 = time.time()\n",
    "subset_y_test_pred = l_clf.predict(subset_X_test)\n",
    "#test_acc = metrics.accuracy_score(subset_y_test, subset_y_test_pred)\n",
    "end_t2 = time.time()\n",
    "print('Train time {:.4f} Test time {:.4f}'.format((end_t1 - t1), (end_t2 - t2)))"
   ]
  }
 ],
 "metadata": {
  "colab": {
   "collapsed_sections": [],
   "name": "FMNIST_Decision_Tree_P.ipynb",
   "provenance": []
  },
  "kernelspec": {
   "display_name": "Python 3",
   "language": "python",
   "name": "python3"
  },
  "language_info": {
   "codemirror_mode": {
    "name": "ipython",
    "version": 3
   },
   "file_extension": ".py",
   "mimetype": "text/x-python",
   "name": "python",
   "nbconvert_exporter": "python",
   "pygments_lexer": "ipython3",
   "version": "3.7.4"
  }
 },
 "nbformat": 4,
 "nbformat_minor": 1
}
